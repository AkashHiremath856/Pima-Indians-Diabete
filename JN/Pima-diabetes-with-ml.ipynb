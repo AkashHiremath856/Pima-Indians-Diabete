{
 "cells": [
  {
   "cell_type": "code",
   "execution_count": 1,
   "metadata": {
    "execution": {
     "iopub.execute_input": "2023-03-13T09:51:41.795502Z",
     "iopub.status.busy": "2023-03-13T09:51:41.795502Z",
     "iopub.status.idle": "2023-03-13T09:51:45.608432Z",
     "shell.execute_reply": "2023-03-13T09:51:45.608432Z",
     "shell.execute_reply.started": "2023-03-13T09:51:41.795502Z"
    },
    "tags": []
   },
   "outputs": [],
   "source": [
    "import pandas as pd\n",
    "import numpy as np\n",
    "from sklearn.model_selection import train_test_split, cross_val_score, GridSearchCV\n",
    "from sklearn.neighbors import KNeighborsClassifier\n",
    "from sklearn.ensemble import RandomForestClassifier\n",
    "from sklearn.tree import DecisionTreeClassifier\n",
    "from sklearn.linear_model import LogisticRegression\n",
    "from sklearn.preprocessing import StandardScaler\n",
    "from sklearn.neural_network import MLPClassifier\n",
    "from sklearn.svm import SVC\n",
    "import warnings\n",
    "from collections import Counter\n",
    "import gc\n",
    "\n",
    "warnings.filterwarnings(\"ignore\")\n",
    "%load_ext lab_black"
   ]
  },
  {
   "cell_type": "code",
   "execution_count": 2,
   "metadata": {
    "execution": {
     "iopub.execute_input": "2023-03-13T09:51:45.613530Z",
     "iopub.status.busy": "2023-03-13T09:51:45.613530Z",
     "iopub.status.idle": "2023-03-13T09:51:45.687272Z",
     "shell.execute_reply": "2023-03-13T09:51:45.687272Z",
     "shell.execute_reply.started": "2023-03-13T09:51:45.613530Z"
    },
    "tags": []
   },
   "outputs": [
    {
     "data": {
      "text/html": [
       "<div>\n",
       "<style scoped>\n",
       "    .dataframe tbody tr th:only-of-type {\n",
       "        vertical-align: middle;\n",
       "    }\n",
       "\n",
       "    .dataframe tbody tr th {\n",
       "        vertical-align: top;\n",
       "    }\n",
       "\n",
       "    .dataframe thead th {\n",
       "        text-align: right;\n",
       "    }\n",
       "</style>\n",
       "<table border=\"1\" class=\"dataframe\">\n",
       "  <thead>\n",
       "    <tr style=\"text-align: right;\">\n",
       "      <th></th>\n",
       "      <th>Pregnancies</th>\n",
       "      <th>BloodPressure</th>\n",
       "      <th>SkinThickness</th>\n",
       "      <th>Insulin</th>\n",
       "      <th>BMI</th>\n",
       "      <th>DiabetesPedigreeFunction</th>\n",
       "      <th>Age</th>\n",
       "      <th>Outcome</th>\n",
       "    </tr>\n",
       "  </thead>\n",
       "  <tbody>\n",
       "    <tr>\n",
       "      <th>0</th>\n",
       "      <td>6</td>\n",
       "      <td>72</td>\n",
       "      <td>35</td>\n",
       "      <td>0</td>\n",
       "      <td>33.6</td>\n",
       "      <td>0.627</td>\n",
       "      <td>50</td>\n",
       "      <td>1</td>\n",
       "    </tr>\n",
       "    <tr>\n",
       "      <th>1</th>\n",
       "      <td>1</td>\n",
       "      <td>66</td>\n",
       "      <td>29</td>\n",
       "      <td>0</td>\n",
       "      <td>26.6</td>\n",
       "      <td>0.351</td>\n",
       "      <td>31</td>\n",
       "      <td>0</td>\n",
       "    </tr>\n",
       "    <tr>\n",
       "      <th>2</th>\n",
       "      <td>8</td>\n",
       "      <td>64</td>\n",
       "      <td>0</td>\n",
       "      <td>0</td>\n",
       "      <td>23.3</td>\n",
       "      <td>0.672</td>\n",
       "      <td>32</td>\n",
       "      <td>1</td>\n",
       "    </tr>\n",
       "    <tr>\n",
       "      <th>3</th>\n",
       "      <td>1</td>\n",
       "      <td>66</td>\n",
       "      <td>23</td>\n",
       "      <td>94</td>\n",
       "      <td>28.1</td>\n",
       "      <td>0.167</td>\n",
       "      <td>21</td>\n",
       "      <td>0</td>\n",
       "    </tr>\n",
       "    <tr>\n",
       "      <th>4</th>\n",
       "      <td>0</td>\n",
       "      <td>40</td>\n",
       "      <td>35</td>\n",
       "      <td>168</td>\n",
       "      <td>43.1</td>\n",
       "      <td>2.288</td>\n",
       "      <td>33</td>\n",
       "      <td>1</td>\n",
       "    </tr>\n",
       "  </tbody>\n",
       "</table>\n",
       "</div>"
      ],
      "text/plain": [
       "   Pregnancies  BloodPressure  SkinThickness  Insulin   BMI  \\\n",
       "0            6             72             35        0  33.6   \n",
       "1            1             66             29        0  26.6   \n",
       "2            8             64              0        0  23.3   \n",
       "3            1             66             23       94  28.1   \n",
       "4            0             40             35      168  43.1   \n",
       "\n",
       "   DiabetesPedigreeFunction  Age  Outcome  \n",
       "0                     0.627   50        1  \n",
       "1                     0.351   31        0  \n",
       "2                     0.672   32        1  \n",
       "3                     0.167   21        0  \n",
       "4                     2.288   33        1  "
      ]
     },
     "execution_count": 2,
     "metadata": {},
     "output_type": "execute_result"
    }
   ],
   "source": [
    "diabetes = pd.read_csv(\"Pimadiabetes.csv\")\n",
    "diabetes.head()"
   ]
  },
  {
   "cell_type": "code",
   "execution_count": 3,
   "metadata": {
    "execution": {
     "iopub.execute_input": "2023-03-13T09:51:45.693345Z",
     "iopub.status.busy": "2023-03-13T09:51:45.687272Z",
     "iopub.status.idle": "2023-03-13T09:51:45.719731Z",
     "shell.execute_reply": "2023-03-13T09:51:45.719731Z",
     "shell.execute_reply.started": "2023-03-13T09:51:45.693345Z"
    },
    "scrolled": true,
    "tags": []
   },
   "outputs": [
    {
     "name": "stdout",
     "output_type": "stream",
     "text": [
      "Outcome\n",
      "0    500\n",
      "1    268\n",
      "dtype: int64\n"
     ]
    }
   ],
   "source": [
    "print(diabetes.groupby(\"Outcome\").size())"
   ]
  },
  {
   "cell_type": "markdown",
   "metadata": {},
   "source": [
    "## Splitting Data into Train, Test "
   ]
  },
  {
   "cell_type": "code",
   "execution_count": 4,
   "metadata": {
    "execution": {
     "iopub.execute_input": "2023-03-13T09:51:45.723758Z",
     "iopub.status.busy": "2023-03-13T09:51:45.723758Z",
     "iopub.status.idle": "2023-03-13T09:51:45.767636Z",
     "shell.execute_reply": "2023-03-13T09:51:45.767636Z",
     "shell.execute_reply.started": "2023-03-13T09:51:45.723758Z"
    },
    "tags": []
   },
   "outputs": [
    {
     "name": "stdout",
     "output_type": "stream",
     "text": [
      "<class 'pandas.core.frame.DataFrame'>\n",
      "RangeIndex: 768 entries, 0 to 767\n",
      "Data columns (total 8 columns):\n",
      " #   Column                    Non-Null Count  Dtype  \n",
      "---  ------                    --------------  -----  \n",
      " 0   Pregnancies               768 non-null    int64  \n",
      " 1   BloodPressure             768 non-null    int64  \n",
      " 2   SkinThickness             768 non-null    int64  \n",
      " 3   Insulin                   768 non-null    int64  \n",
      " 4   BMI                       768 non-null    float64\n",
      " 5   DiabetesPedigreeFunction  768 non-null    float64\n",
      " 6   Age                       768 non-null    int64  \n",
      " 7   Outcome                   768 non-null    int64  \n",
      "dtypes: float64(2), int64(6)\n",
      "memory usage: 48.1 KB\n"
     ]
    }
   ],
   "source": [
    "diabetes.info()"
   ]
  },
  {
   "cell_type": "markdown",
   "metadata": {},
   "source": [
    "# Data Description"
   ]
  },
  {
   "cell_type": "code",
   "execution_count": 5,
   "metadata": {
    "execution": {
     "iopub.execute_input": "2023-03-13T09:51:45.773773Z",
     "iopub.status.busy": "2023-03-13T09:51:45.767636Z",
     "iopub.status.idle": "2023-03-13T09:51:45.846854Z",
     "shell.execute_reply": "2023-03-13T09:51:45.846854Z",
     "shell.execute_reply.started": "2023-03-13T09:51:45.773674Z"
    },
    "tags": []
   },
   "outputs": [
    {
     "data": {
      "text/html": [
       "<div>\n",
       "<style scoped>\n",
       "    .dataframe tbody tr th:only-of-type {\n",
       "        vertical-align: middle;\n",
       "    }\n",
       "\n",
       "    .dataframe tbody tr th {\n",
       "        vertical-align: top;\n",
       "    }\n",
       "\n",
       "    .dataframe thead th {\n",
       "        text-align: right;\n",
       "    }\n",
       "</style>\n",
       "<table border=\"1\" class=\"dataframe\">\n",
       "  <thead>\n",
       "    <tr style=\"text-align: right;\">\n",
       "      <th></th>\n",
       "      <th>Pregnancies</th>\n",
       "      <th>BloodPressure</th>\n",
       "      <th>SkinThickness</th>\n",
       "      <th>Insulin</th>\n",
       "      <th>BMI</th>\n",
       "      <th>DiabetesPedigreeFunction</th>\n",
       "      <th>Age</th>\n",
       "      <th>Outcome</th>\n",
       "    </tr>\n",
       "  </thead>\n",
       "  <tbody>\n",
       "    <tr>\n",
       "      <th>count</th>\n",
       "      <td>768.000000</td>\n",
       "      <td>768.000000</td>\n",
       "      <td>768.000000</td>\n",
       "      <td>768.000000</td>\n",
       "      <td>768.000000</td>\n",
       "      <td>768.000000</td>\n",
       "      <td>768.000000</td>\n",
       "      <td>768.000000</td>\n",
       "    </tr>\n",
       "    <tr>\n",
       "      <th>mean</th>\n",
       "      <td>3.845052</td>\n",
       "      <td>69.105469</td>\n",
       "      <td>20.536458</td>\n",
       "      <td>79.799479</td>\n",
       "      <td>31.992578</td>\n",
       "      <td>0.471876</td>\n",
       "      <td>33.240885</td>\n",
       "      <td>0.348958</td>\n",
       "    </tr>\n",
       "    <tr>\n",
       "      <th>std</th>\n",
       "      <td>3.369578</td>\n",
       "      <td>19.355807</td>\n",
       "      <td>15.952218</td>\n",
       "      <td>115.244002</td>\n",
       "      <td>7.884160</td>\n",
       "      <td>0.331329</td>\n",
       "      <td>11.760232</td>\n",
       "      <td>0.476951</td>\n",
       "    </tr>\n",
       "    <tr>\n",
       "      <th>min</th>\n",
       "      <td>0.000000</td>\n",
       "      <td>0.000000</td>\n",
       "      <td>0.000000</td>\n",
       "      <td>0.000000</td>\n",
       "      <td>0.000000</td>\n",
       "      <td>0.078000</td>\n",
       "      <td>21.000000</td>\n",
       "      <td>0.000000</td>\n",
       "    </tr>\n",
       "    <tr>\n",
       "      <th>25%</th>\n",
       "      <td>1.000000</td>\n",
       "      <td>62.000000</td>\n",
       "      <td>0.000000</td>\n",
       "      <td>0.000000</td>\n",
       "      <td>27.300000</td>\n",
       "      <td>0.243750</td>\n",
       "      <td>24.000000</td>\n",
       "      <td>0.000000</td>\n",
       "    </tr>\n",
       "    <tr>\n",
       "      <th>50%</th>\n",
       "      <td>3.000000</td>\n",
       "      <td>72.000000</td>\n",
       "      <td>23.000000</td>\n",
       "      <td>30.500000</td>\n",
       "      <td>32.000000</td>\n",
       "      <td>0.372500</td>\n",
       "      <td>29.000000</td>\n",
       "      <td>0.000000</td>\n",
       "    </tr>\n",
       "    <tr>\n",
       "      <th>75%</th>\n",
       "      <td>6.000000</td>\n",
       "      <td>80.000000</td>\n",
       "      <td>32.000000</td>\n",
       "      <td>127.250000</td>\n",
       "      <td>36.600000</td>\n",
       "      <td>0.626250</td>\n",
       "      <td>41.000000</td>\n",
       "      <td>1.000000</td>\n",
       "    </tr>\n",
       "    <tr>\n",
       "      <th>max</th>\n",
       "      <td>17.000000</td>\n",
       "      <td>122.000000</td>\n",
       "      <td>99.000000</td>\n",
       "      <td>846.000000</td>\n",
       "      <td>67.100000</td>\n",
       "      <td>2.420000</td>\n",
       "      <td>81.000000</td>\n",
       "      <td>1.000000</td>\n",
       "    </tr>\n",
       "  </tbody>\n",
       "</table>\n",
       "</div>"
      ],
      "text/plain": [
       "       Pregnancies  BloodPressure  SkinThickness     Insulin         BMI  \\\n",
       "count   768.000000     768.000000     768.000000  768.000000  768.000000   \n",
       "mean      3.845052      69.105469      20.536458   79.799479   31.992578   \n",
       "std       3.369578      19.355807      15.952218  115.244002    7.884160   \n",
       "min       0.000000       0.000000       0.000000    0.000000    0.000000   \n",
       "25%       1.000000      62.000000       0.000000    0.000000   27.300000   \n",
       "50%       3.000000      72.000000      23.000000   30.500000   32.000000   \n",
       "75%       6.000000      80.000000      32.000000  127.250000   36.600000   \n",
       "max      17.000000     122.000000      99.000000  846.000000   67.100000   \n",
       "\n",
       "       DiabetesPedigreeFunction         Age     Outcome  \n",
       "count                768.000000  768.000000  768.000000  \n",
       "mean                   0.471876   33.240885    0.348958  \n",
       "std                    0.331329   11.760232    0.476951  \n",
       "min                    0.078000   21.000000    0.000000  \n",
       "25%                    0.243750   24.000000    0.000000  \n",
       "50%                    0.372500   29.000000    0.000000  \n",
       "75%                    0.626250   41.000000    1.000000  \n",
       "max                    2.420000   81.000000    1.000000  "
      ]
     },
     "execution_count": 5,
     "metadata": {},
     "output_type": "execute_result"
    }
   ],
   "source": [
    "diabetes.describe()"
   ]
  },
  {
   "cell_type": "code",
   "execution_count": 6,
   "metadata": {
    "execution": {
     "iopub.execute_input": "2023-03-13T09:51:45.853381Z",
     "iopub.status.busy": "2023-03-13T09:51:45.853381Z",
     "iopub.status.idle": "2023-03-13T09:51:45.878802Z",
     "shell.execute_reply": "2023-03-13T09:51:45.878802Z",
     "shell.execute_reply.started": "2023-03-13T09:51:45.853381Z"
    },
    "tags": []
   },
   "outputs": [
    {
     "data": {
      "text/html": [
       "<div>\n",
       "<style scoped>\n",
       "    .dataframe tbody tr th:only-of-type {\n",
       "        vertical-align: middle;\n",
       "    }\n",
       "\n",
       "    .dataframe tbody tr th {\n",
       "        vertical-align: top;\n",
       "    }\n",
       "\n",
       "    .dataframe thead th {\n",
       "        text-align: right;\n",
       "    }\n",
       "</style>\n",
       "<table border=\"1\" class=\"dataframe\">\n",
       "  <thead>\n",
       "    <tr style=\"text-align: right;\">\n",
       "      <th></th>\n",
       "      <th>Pregnancies</th>\n",
       "      <th>BloodPressure</th>\n",
       "      <th>SkinThickness</th>\n",
       "      <th>Insulin</th>\n",
       "      <th>BMI</th>\n",
       "      <th>DiabetesPedigreeFunction</th>\n",
       "      <th>Age</th>\n",
       "      <th>Outcome</th>\n",
       "    </tr>\n",
       "  </thead>\n",
       "  <tbody>\n",
       "    <tr>\n",
       "      <th>0</th>\n",
       "      <td>6</td>\n",
       "      <td>72</td>\n",
       "      <td>35</td>\n",
       "      <td>0</td>\n",
       "      <td>33.6</td>\n",
       "      <td>0.627</td>\n",
       "      <td>50</td>\n",
       "      <td>1</td>\n",
       "    </tr>\n",
       "    <tr>\n",
       "      <th>1</th>\n",
       "      <td>1</td>\n",
       "      <td>66</td>\n",
       "      <td>29</td>\n",
       "      <td>0</td>\n",
       "      <td>26.6</td>\n",
       "      <td>0.351</td>\n",
       "      <td>31</td>\n",
       "      <td>0</td>\n",
       "    </tr>\n",
       "    <tr>\n",
       "      <th>2</th>\n",
       "      <td>8</td>\n",
       "      <td>64</td>\n",
       "      <td>0</td>\n",
       "      <td>0</td>\n",
       "      <td>23.3</td>\n",
       "      <td>0.672</td>\n",
       "      <td>32</td>\n",
       "      <td>1</td>\n",
       "    </tr>\n",
       "    <tr>\n",
       "      <th>3</th>\n",
       "      <td>1</td>\n",
       "      <td>66</td>\n",
       "      <td>23</td>\n",
       "      <td>94</td>\n",
       "      <td>28.1</td>\n",
       "      <td>0.167</td>\n",
       "      <td>21</td>\n",
       "      <td>0</td>\n",
       "    </tr>\n",
       "    <tr>\n",
       "      <th>4</th>\n",
       "      <td>0</td>\n",
       "      <td>40</td>\n",
       "      <td>35</td>\n",
       "      <td>168</td>\n",
       "      <td>43.1</td>\n",
       "      <td>2.288</td>\n",
       "      <td>33</td>\n",
       "      <td>1</td>\n",
       "    </tr>\n",
       "  </tbody>\n",
       "</table>\n",
       "</div>"
      ],
      "text/plain": [
       "   Pregnancies  BloodPressure  SkinThickness  Insulin   BMI  \\\n",
       "0            6             72             35        0  33.6   \n",
       "1            1             66             29        0  26.6   \n",
       "2            8             64              0        0  23.3   \n",
       "3            1             66             23       94  28.1   \n",
       "4            0             40             35      168  43.1   \n",
       "\n",
       "   DiabetesPedigreeFunction  Age  Outcome  \n",
       "0                     0.627   50        1  \n",
       "1                     0.351   31        0  \n",
       "2                     0.672   32        1  \n",
       "3                     0.167   21        0  \n",
       "4                     2.288   33        1  "
      ]
     },
     "execution_count": 6,
     "metadata": {},
     "output_type": "execute_result"
    }
   ],
   "source": [
    "diabetes.head(5)"
   ]
  },
  {
   "cell_type": "code",
   "execution_count": 7,
   "metadata": {
    "execution": {
     "iopub.execute_input": "2023-03-13T09:51:45.881841Z",
     "iopub.status.busy": "2023-03-13T09:51:45.881841Z",
     "iopub.status.idle": "2023-03-13T09:51:45.894792Z",
     "shell.execute_reply": "2023-03-13T09:51:45.894792Z",
     "shell.execute_reply.started": "2023-03-13T09:51:45.881841Z"
    },
    "tags": []
   },
   "outputs": [],
   "source": [
    "X = diabetes.drop(\"Outcome\", axis=1)\n",
    "y = diabetes.Outcome"
   ]
  },
  {
   "cell_type": "code",
   "execution_count": 8,
   "metadata": {
    "execution": {
     "iopub.execute_input": "2023-03-13T09:51:45.894792Z",
     "iopub.status.busy": "2023-03-13T09:51:45.894792Z",
     "iopub.status.idle": "2023-03-13T09:51:46.005487Z",
     "shell.execute_reply": "2023-03-13T09:51:46.005487Z",
     "shell.execute_reply.started": "2023-03-13T09:51:45.894792Z"
    },
    "tags": []
   },
   "outputs": [
    {
     "data": {
      "text/plain": [
       "Counter({1: 268, 0: 500})"
      ]
     },
     "execution_count": 8,
     "metadata": {},
     "output_type": "execute_result"
    }
   ],
   "source": [
    "Counter(y)"
   ]
  },
  {
   "cell_type": "code",
   "execution_count": 9,
   "metadata": {
    "execution": {
     "iopub.execute_input": "2023-03-13T09:51:46.005487Z",
     "iopub.status.busy": "2023-03-13T09:51:46.005487Z",
     "iopub.status.idle": "2023-03-13T09:51:47.433767Z",
     "shell.execute_reply": "2023-03-13T09:51:47.433767Z",
     "shell.execute_reply.started": "2023-03-13T09:51:46.005487Z"
    },
    "tags": []
   },
   "outputs": [],
   "source": [
    "from imblearn.under_sampling import RandomUnderSampler\n",
    "\n",
    "rus = RandomUnderSampler(random_state=42)\n",
    "X, y = rus.fit_resample(X, y)"
   ]
  },
  {
   "cell_type": "code",
   "execution_count": 10,
   "metadata": {
    "execution": {
     "iopub.execute_input": "2023-03-13T09:51:47.443389Z",
     "iopub.status.busy": "2023-03-13T09:51:47.443389Z",
     "iopub.status.idle": "2023-03-13T09:51:47.465074Z",
     "shell.execute_reply": "2023-03-13T09:51:47.465074Z",
     "shell.execute_reply.started": "2023-03-13T09:51:47.443389Z"
    },
    "tags": []
   },
   "outputs": [
    {
     "data": {
      "text/plain": [
       "Counter({0: 268, 1: 268})"
      ]
     },
     "execution_count": 10,
     "metadata": {},
     "output_type": "execute_result"
    }
   ],
   "source": [
    "Counter(y)"
   ]
  },
  {
   "cell_type": "code",
   "execution_count": 11,
   "metadata": {
    "execution": {
     "iopub.execute_input": "2023-03-13T09:51:47.465074Z",
     "iopub.status.busy": "2023-03-13T09:51:47.465074Z",
     "iopub.status.idle": "2023-03-13T09:51:47.497042Z",
     "shell.execute_reply": "2023-03-13T09:51:47.497042Z",
     "shell.execute_reply.started": "2023-03-13T09:51:47.465074Z"
    },
    "tags": []
   },
   "outputs": [],
   "source": [
    "scaler = StandardScaler()\n",
    "X = scaler.fit_transform(X)"
   ]
  },
  {
   "cell_type": "code",
   "execution_count": 12,
   "metadata": {
    "execution": {
     "iopub.execute_input": "2023-03-13T09:51:47.503583Z",
     "iopub.status.busy": "2023-03-13T09:51:47.497042Z",
     "iopub.status.idle": "2023-03-13T09:51:47.528573Z",
     "shell.execute_reply": "2023-03-13T09:51:47.528573Z",
     "shell.execute_reply.started": "2023-03-13T09:51:47.503583Z"
    },
    "tags": []
   },
   "outputs": [],
   "source": [
    "X_train, X_test, y_train, y_test = train_test_split(\n",
    "    X, y, random_state=42, test_size=0.2\n",
    ")"
   ]
  },
  {
   "cell_type": "code",
   "execution_count": 13,
   "metadata": {
    "execution": {
     "iopub.execute_input": "2023-03-13T09:51:47.533748Z",
     "iopub.status.busy": "2023-03-13T09:51:47.533748Z",
     "iopub.status.idle": "2023-03-13T09:51:47.563741Z",
     "shell.execute_reply": "2023-03-13T09:51:47.560602Z",
     "shell.execute_reply.started": "2023-03-13T09:51:47.533748Z"
    },
    "tags": []
   },
   "outputs": [
    {
     "data": {
      "text/plain": [
       "((428, 7), (428,))"
      ]
     },
     "execution_count": 13,
     "metadata": {},
     "output_type": "execute_result"
    }
   ],
   "source": [
    "X_train.shape, y_train.shape"
   ]
  },
  {
   "cell_type": "markdown",
   "metadata": {},
   "source": [
    "# Without HyperParameters"
   ]
  },
  {
   "cell_type": "code",
   "execution_count": 14,
   "metadata": {
    "execution": {
     "iopub.execute_input": "2023-03-13T09:51:47.563741Z",
     "iopub.status.busy": "2023-03-13T09:51:47.563741Z",
     "iopub.status.idle": "2023-03-13T09:51:49.320411Z",
     "shell.execute_reply": "2023-03-13T09:51:49.320411Z",
     "shell.execute_reply.started": "2023-03-13T09:51:47.563741Z"
    },
    "tags": []
   },
   "outputs": [
    {
     "data": {
      "text/html": [
       "<div>\n",
       "<style scoped>\n",
       "    .dataframe tbody tr th:only-of-type {\n",
       "        vertical-align: middle;\n",
       "    }\n",
       "\n",
       "    .dataframe tbody tr th {\n",
       "        vertical-align: top;\n",
       "    }\n",
       "\n",
       "    .dataframe thead th {\n",
       "        text-align: right;\n",
       "    }\n",
       "</style>\n",
       "<table border=\"1\" class=\"dataframe\">\n",
       "  <thead>\n",
       "    <tr style=\"text-align: right;\">\n",
       "      <th></th>\n",
       "      <th>Algorithm</th>\n",
       "      <th>Train Accuracy</th>\n",
       "      <th>Test Accuracy</th>\n",
       "    </tr>\n",
       "  </thead>\n",
       "  <tbody>\n",
       "    <tr>\n",
       "      <th>2</th>\n",
       "      <td>MLPClassifier</td>\n",
       "      <td>0.719626</td>\n",
       "      <td>0.796296</td>\n",
       "    </tr>\n",
       "    <tr>\n",
       "      <th>5</th>\n",
       "      <td>SVC</td>\n",
       "      <td>0.731308</td>\n",
       "      <td>0.768519</td>\n",
       "    </tr>\n",
       "    <tr>\n",
       "      <th>0</th>\n",
       "      <td>KNeighborsClassifier</td>\n",
       "      <td>0.750000</td>\n",
       "      <td>0.750000</td>\n",
       "    </tr>\n",
       "    <tr>\n",
       "      <th>3</th>\n",
       "      <td>RandomForestClassifier</td>\n",
       "      <td>1.000000</td>\n",
       "      <td>0.750000</td>\n",
       "    </tr>\n",
       "    <tr>\n",
       "      <th>4</th>\n",
       "      <td>LogisticRegression</td>\n",
       "      <td>0.679907</td>\n",
       "      <td>0.750000</td>\n",
       "    </tr>\n",
       "    <tr>\n",
       "      <th>1</th>\n",
       "      <td>DecisionTreeClassifier</td>\n",
       "      <td>1.000000</td>\n",
       "      <td>0.722222</td>\n",
       "    </tr>\n",
       "  </tbody>\n",
       "</table>\n",
       "</div>"
      ],
      "text/plain": [
       "                Algorithm  Train Accuracy  Test Accuracy\n",
       "2           MLPClassifier        0.719626       0.796296\n",
       "5                     SVC        0.731308       0.768519\n",
       "0    KNeighborsClassifier        0.750000       0.750000\n",
       "3  RandomForestClassifier        1.000000       0.750000\n",
       "4      LogisticRegression        0.679907       0.750000\n",
       "1  DecisionTreeClassifier        1.000000       0.722222"
      ]
     },
     "execution_count": 14,
     "metadata": {},
     "output_type": "execute_result"
    }
   ],
   "source": [
    "knn = KNeighborsClassifier()\n",
    "knn.fit(X_train, y_train)\n",
    "tree = DecisionTreeClassifier()\n",
    "tree.fit(X_train, y_train)\n",
    "mlp = MLPClassifier(random_state=12)\n",
    "mlp.fit(X_train, y_train)\n",
    "rf = RandomForestClassifier(random_state=42)\n",
    "rf.fit(X_train, y_train)\n",
    "lr = LogisticRegression()\n",
    "lr.fit(X_train, y_train)\n",
    "svc = SVC()\n",
    "svc.fit(X_train, y_train)\n",
    "\n",
    "results = {\n",
    "    \"Algorithm\": [\n",
    "        \"KNeighborsClassifier\",\n",
    "        \"DecisionTreeClassifier\",\n",
    "        \"MLPClassifier\",\n",
    "        \"RandomForestClassifier\",\n",
    "        \"LogisticRegression\",\n",
    "        \"SVC\",\n",
    "    ],\n",
    "    \"Train Accuracy\": [\n",
    "        knn.score(X_train, y_train),\n",
    "        tree.score(X_train, y_train),\n",
    "        mlp.score(X_train, y_train),\n",
    "        rf.score(X_train, y_train),\n",
    "        lr.score(X_train, y_train),\n",
    "        svc.score(X_train, y_train),\n",
    "    ],\n",
    "    \"Test Accuracy\": [\n",
    "        knn.score(X_test, y_test),\n",
    "        tree.score(X_test, y_test),\n",
    "        mlp.score(X_test, y_test),\n",
    "        rf.score(X_test, y_test),\n",
    "        lr.score(X_test, y_test),\n",
    "        svc.score(X_test, y_test),\n",
    "    ],\n",
    "}\n",
    "results_noParams = pd.DataFrame(results)\n",
    "results_noParams.sort_values(by=[\"Test Accuracy\"], ascending=False, inplace=True)\n",
    "results_noParams"
   ]
  },
  {
   "cell_type": "code",
   "execution_count": 15,
   "metadata": {
    "execution": {
     "iopub.execute_input": "2023-03-13T09:51:49.323429Z",
     "iopub.status.busy": "2023-03-13T09:51:49.323429Z",
     "iopub.status.idle": "2023-03-13T09:51:49.433370Z",
     "shell.execute_reply": "2023-03-13T09:51:49.431353Z",
     "shell.execute_reply.started": "2023-03-13T09:51:49.323429Z"
    },
    "tags": []
   },
   "outputs": [
    {
     "data": {
      "text/plain": [
       "1453"
      ]
     },
     "execution_count": 15,
     "metadata": {},
     "output_type": "execute_result"
    }
   ],
   "source": [
    "gc.collect()"
   ]
  },
  {
   "cell_type": "markdown",
   "metadata": {},
   "source": [
    "# Using GridSearchCV for Hyper Parameter Tuning"
   ]
  },
  {
   "cell_type": "code",
   "execution_count": 16,
   "metadata": {
    "execution": {
     "iopub.execute_input": "2023-03-13T09:51:49.433370Z",
     "iopub.status.busy": "2023-03-13T09:51:49.433370Z",
     "iopub.status.idle": "2023-03-13T09:51:51.307341Z",
     "shell.execute_reply": "2023-03-13T09:51:51.307341Z",
     "shell.execute_reply.started": "2023-03-13T09:51:49.433370Z"
    },
    "tags": []
   },
   "outputs": [
    {
     "data": {
      "text/html": [
       "<div>\n",
       "<style scoped>\n",
       "    .dataframe tbody tr th:only-of-type {\n",
       "        vertical-align: middle;\n",
       "    }\n",
       "\n",
       "    .dataframe tbody tr th {\n",
       "        vertical-align: top;\n",
       "    }\n",
       "\n",
       "    .dataframe thead th {\n",
       "        text-align: right;\n",
       "    }\n",
       "</style>\n",
       "<table border=\"1\" class=\"dataframe\">\n",
       "  <thead>\n",
       "    <tr style=\"text-align: right;\">\n",
       "      <th></th>\n",
       "      <th>Algorithm</th>\n",
       "      <th>Train Accuracy</th>\n",
       "      <th>Test Accuracy</th>\n",
       "    </tr>\n",
       "  </thead>\n",
       "  <tbody>\n",
       "    <tr>\n",
       "      <th>2</th>\n",
       "      <td>MLPClassifier</td>\n",
       "      <td>0.724299</td>\n",
       "      <td>0.796296</td>\n",
       "    </tr>\n",
       "    <tr>\n",
       "      <th>4</th>\n",
       "      <td>SVC</td>\n",
       "      <td>0.689252</td>\n",
       "      <td>0.777778</td>\n",
       "    </tr>\n",
       "    <tr>\n",
       "      <th>3</th>\n",
       "      <td>RandomForestClassifier</td>\n",
       "      <td>0.990654</td>\n",
       "      <td>0.740741</td>\n",
       "    </tr>\n",
       "    <tr>\n",
       "      <th>0</th>\n",
       "      <td>KNeighborsClassifier</td>\n",
       "      <td>1.000000</td>\n",
       "      <td>0.731481</td>\n",
       "    </tr>\n",
       "    <tr>\n",
       "      <th>1</th>\n",
       "      <td>DecisionTreeClassifier</td>\n",
       "      <td>0.740654</td>\n",
       "      <td>0.648148</td>\n",
       "    </tr>\n",
       "  </tbody>\n",
       "</table>\n",
       "</div>"
      ],
      "text/plain": [
       "                Algorithm  Train Accuracy  Test Accuracy\n",
       "2           MLPClassifier        0.724299       0.796296\n",
       "4                     SVC        0.689252       0.777778\n",
       "3  RandomForestClassifier        0.990654       0.740741\n",
       "0    KNeighborsClassifier        1.000000       0.731481\n",
       "1  DecisionTreeClassifier        0.740654       0.648148"
      ]
     },
     "execution_count": 16,
     "metadata": {},
     "output_type": "execute_result"
    }
   ],
   "source": [
    "GSknn = KNeighborsClassifier(n_jobs=1, n_neighbors=10, weights=\"distance\")\n",
    "GSknn.fit(X_train, y_train)\n",
    "\n",
    "GStree = DecisionTreeClassifier(max_depth=4, min_samples_split=2, min_samples_leaf=4)\n",
    "GStree.fit(X_train, y_train)\n",
    "\n",
    "GSsvc = SVC(C=2, gamma=\"scale\", kernel=\"linear\")\n",
    "GSsvc.fit(X_train, y_train)\n",
    "\n",
    "GSmlp = MLPClassifier(\n",
    "    activation=\"relu\",\n",
    "    alpha=0.05,\n",
    "    hidden_layer_sizes=(100,),\n",
    "    learning_rate=\"constant\",\n",
    "    solver=\"adam\",\n",
    "    random_state=12,\n",
    ")\n",
    "GSmlp.fit(X_train, y_train)\n",
    "\n",
    "GSrf = RandomForestClassifier(\n",
    "    max_features=\"log2\", min_samples_leaf=2, min_samples_split=4, random_state=21\n",
    ")\n",
    "GSrf.fit(X_train, y_train)\n",
    "\n",
    "results = {\n",
    "    \"Algorithm\": [\n",
    "        \"KNeighborsClassifier\",\n",
    "        \"DecisionTreeClassifier\",\n",
    "        \"MLPClassifier\",\n",
    "        \"RandomForestClassifier\",\n",
    "        \"SVC\",\n",
    "    ],\n",
    "    \"Train Accuracy\": [\n",
    "        GSknn.score(X_train, y_train),\n",
    "        GStree.score(X_train, y_train),\n",
    "        GSmlp.score(X_train, y_train),\n",
    "        GSrf.score(X_train, y_train),\n",
    "        GSsvc.score(X_train, y_train),\n",
    "    ],\n",
    "    \"Test Accuracy\": [\n",
    "        GSknn.score(X_test, y_test),\n",
    "        GStree.score(X_test, y_test),\n",
    "        GSmlp.score(X_test, y_test),\n",
    "        GSrf.score(X_test, y_test),\n",
    "        GSsvc.score(X_test, y_test),\n",
    "    ],\n",
    "}\n",
    "\n",
    "results_withParams = pd.DataFrame(results)\n",
    "results_withParams.sort_values(by=[\"Test Accuracy\"], ascending=False, inplace=True)\n",
    "results_withParams"
   ]
  },
  {
   "cell_type": "code",
   "execution_count": 17,
   "metadata": {
    "execution": {
     "iopub.execute_input": "2023-03-13T09:51:51.307341Z",
     "iopub.status.busy": "2023-03-13T09:51:51.307341Z",
     "iopub.status.idle": "2023-03-13T09:51:51.427099Z",
     "shell.execute_reply": "2023-03-13T09:51:51.427099Z",
     "shell.execute_reply.started": "2023-03-13T09:51:51.307341Z"
    },
    "tags": []
   },
   "outputs": [
    {
     "data": {
      "text/plain": [
       "1939"
      ]
     },
     "execution_count": 17,
     "metadata": {},
     "output_type": "execute_result"
    }
   ],
   "source": [
    "gc.collect()"
   ]
  },
  {
   "cell_type": "markdown",
   "metadata": {},
   "source": [
    "# Experimentation to improve Test Accuracy by recurrently dropping a feature"
   ]
  },
  {
   "cell_type": "code",
   "execution_count": 18,
   "metadata": {
    "execution": {
     "iopub.execute_input": "2023-03-13T09:51:51.427099Z",
     "iopub.status.busy": "2023-03-13T09:51:51.427099Z",
     "iopub.status.idle": "2023-03-13T09:51:53.191269Z",
     "shell.execute_reply": "2023-03-13T09:51:53.189226Z",
     "shell.execute_reply.started": "2023-03-13T09:51:51.427099Z"
    },
    "tags": []
   },
   "outputs": [
    {
     "data": {
      "image/png": "[encoded data removed]",
      "text/plain": [
       "<Figure size 640x480 with 1 Axes>"
      ]
     },
     "metadata": {},
     "output_type": "display_data"
    }
   ],
   "source": [
    "import matplotlib.pyplot as plt\n",
    "\n",
    "forest_importances = pd.Series(GSrf.feature_importances_, index=diabetes.columns[:-1])\n",
    "\n",
    "importances = GSrf.feature_importances_\n",
    "std = np.std([tree.feature_importances_ for tree in GSrf.estimators_], axis=0)\n",
    "\n",
    "fig, ax = plt.subplots()\n",
    "forest_importances.plot.bar(yerr=std, ax=ax)\n",
    "ax.set_title(\"Feature importances using MDI\")\n",
    "ax.set_ylabel(\"Mean decrease in impurity\")\n",
    "fig.tight_layout()"
   ]
  },
  {
   "cell_type": "code",
   "execution_count": 19,
   "metadata": {
    "execution": {
     "iopub.execute_input": "2023-03-13T09:51:53.193390Z",
     "iopub.status.busy": "2023-03-13T09:51:53.193390Z",
     "iopub.status.idle": "2023-03-13T09:51:53.221122Z",
     "shell.execute_reply": "2023-03-13T09:51:53.221122Z",
     "shell.execute_reply.started": "2023-03-13T09:51:53.193390Z"
    },
    "scrolled": true,
    "tags": []
   },
   "outputs": [
    {
     "data": {
      "text/html": [
       "<div>\n",
       "<style scoped>\n",
       "    .dataframe tbody tr th:only-of-type {\n",
       "        vertical-align: middle;\n",
       "    }\n",
       "\n",
       "    .dataframe tbody tr th {\n",
       "        vertical-align: top;\n",
       "    }\n",
       "\n",
       "    .dataframe thead th {\n",
       "        text-align: right;\n",
       "    }\n",
       "</style>\n",
       "<table border=\"1\" class=\"dataframe\">\n",
       "  <thead>\n",
       "    <tr style=\"text-align: right;\">\n",
       "      <th></th>\n",
       "      <th>Pregnancies</th>\n",
       "      <th>BloodPressure</th>\n",
       "      <th>SkinThickness</th>\n",
       "      <th>Insulin</th>\n",
       "      <th>BMI</th>\n",
       "      <th>DiabetesPedigreeFunction</th>\n",
       "      <th>Age</th>\n",
       "      <th>Outcome</th>\n",
       "    </tr>\n",
       "  </thead>\n",
       "  <tbody>\n",
       "    <tr>\n",
       "      <th>0</th>\n",
       "      <td>6</td>\n",
       "      <td>72</td>\n",
       "      <td>35</td>\n",
       "      <td>0</td>\n",
       "      <td>33.6</td>\n",
       "      <td>0.627</td>\n",
       "      <td>50</td>\n",
       "      <td>1</td>\n",
       "    </tr>\n",
       "    <tr>\n",
       "      <th>1</th>\n",
       "      <td>1</td>\n",
       "      <td>66</td>\n",
       "      <td>29</td>\n",
       "      <td>0</td>\n",
       "      <td>26.6</td>\n",
       "      <td>0.351</td>\n",
       "      <td>31</td>\n",
       "      <td>0</td>\n",
       "    </tr>\n",
       "    <tr>\n",
       "      <th>2</th>\n",
       "      <td>8</td>\n",
       "      <td>64</td>\n",
       "      <td>0</td>\n",
       "      <td>0</td>\n",
       "      <td>23.3</td>\n",
       "      <td>0.672</td>\n",
       "      <td>32</td>\n",
       "      <td>1</td>\n",
       "    </tr>\n",
       "    <tr>\n",
       "      <th>3</th>\n",
       "      <td>1</td>\n",
       "      <td>66</td>\n",
       "      <td>23</td>\n",
       "      <td>94</td>\n",
       "      <td>28.1</td>\n",
       "      <td>0.167</td>\n",
       "      <td>21</td>\n",
       "      <td>0</td>\n",
       "    </tr>\n",
       "    <tr>\n",
       "      <th>4</th>\n",
       "      <td>0</td>\n",
       "      <td>40</td>\n",
       "      <td>35</td>\n",
       "      <td>168</td>\n",
       "      <td>43.1</td>\n",
       "      <td>2.288</td>\n",
       "      <td>33</td>\n",
       "      <td>1</td>\n",
       "    </tr>\n",
       "  </tbody>\n",
       "</table>\n",
       "</div>"
      ],
      "text/plain": [
       "   Pregnancies  BloodPressure  SkinThickness  Insulin   BMI  \\\n",
       "0            6             72             35        0  33.6   \n",
       "1            1             66             29        0  26.6   \n",
       "2            8             64              0        0  23.3   \n",
       "3            1             66             23       94  28.1   \n",
       "4            0             40             35      168  43.1   \n",
       "\n",
       "   DiabetesPedigreeFunction  Age  Outcome  \n",
       "0                     0.627   50        1  \n",
       "1                     0.351   31        0  \n",
       "2                     0.672   32        1  \n",
       "3                     0.167   21        0  \n",
       "4                     2.288   33        1  "
      ]
     },
     "execution_count": 19,
     "metadata": {},
     "output_type": "execute_result"
    }
   ],
   "source": [
    "diabetes.head()"
   ]
  },
  {
   "cell_type": "code",
   "execution_count": 20,
   "metadata": {
    "execution": {
     "iopub.execute_input": "2023-03-13T09:51:53.223719Z",
     "iopub.status.busy": "2023-03-13T09:51:53.223719Z",
     "iopub.status.idle": "2023-03-13T09:51:53.268822Z",
     "shell.execute_reply": "2023-03-13T09:51:53.268822Z",
     "shell.execute_reply.started": "2023-03-13T09:51:53.223719Z"
    },
    "tags": []
   },
   "outputs": [],
   "source": [
    "def shuffle(shuffle_model):\n",
    "    dropped = []\n",
    "    train_res = []\n",
    "    test_res = []\n",
    "\n",
    "    for i in range(len(diabetes.columns) - 2):\n",
    "        X = diabetes.drop(\"Outcome\", axis=1)\n",
    "        X.drop(X.columns[i], axis=1, inplace=True)\n",
    "        y = diabetes.Outcome\n",
    "        col = X.columns[i]\n",
    "        X = scaler.fit_transform(X)\n",
    "        rus = RandomUnderSampler(random_state=42)\n",
    "        X, y = rus.fit_resample(X, y)\n",
    "        X_train, X_test, y_train, y_test = train_test_split(\n",
    "            X, y, random_state=42, test_size=0.2\n",
    "        )\n",
    "        shuffle_model.fit(X_train, y_train)\n",
    "        train_score = shuffle_model.score(X_train, y_train)\n",
    "        test_score = shuffle_model.score(X_test, y_test)\n",
    "        dropped.append(col)\n",
    "        train_res.append(train_score)\n",
    "        test_res.append(test_score)\n",
    "\n",
    "    scores = pd.DataFrame(\n",
    "        {\"Dropped Columns\": dropped, \"Test_Scores\": test_res, \"Train_Scores\": train_res}\n",
    "    )\n",
    "    scores = scores.sort_values(by=\"Test_Scores\", ascending=False)\n",
    "    return scores.iloc[0]"
   ]
  },
  {
   "cell_type": "markdown",
   "metadata": {},
   "source": [
    "# Without HyperParameters"
   ]
  },
  {
   "cell_type": "code",
   "execution_count": 21,
   "metadata": {
    "execution": {
     "iopub.execute_input": "2023-03-13T09:51:53.273354Z",
     "iopub.status.busy": "2023-03-13T09:51:53.273354Z",
     "iopub.status.idle": "2023-03-13T09:52:01.655244Z",
     "shell.execute_reply": "2023-03-13T09:52:01.655244Z",
     "shell.execute_reply.started": "2023-03-13T09:51:53.273354Z"
    },
    "tags": []
   },
   "outputs": [
    {
     "name": "stdout",
     "output_type": "stream",
     "text": [
      "\n",
      "MLPClassifier\n",
      "Dropped Columns    BloodPressure\n",
      "Test_Scores             0.787037\n",
      "Train_Scores            0.721963\n",
      "Name: 0, dtype: object\n",
      "\n",
      "RandomForestClassifier\n",
      "Dropped Columns     Insulin\n",
      "Test_Scores            0.75\n",
      "Train_Scores       0.761682\n",
      "Name: 2, dtype: object\n",
      "DecisionTreeClassifier\n",
      "Dropped Columns     Insulin\n",
      "Test_Scores        0.703704\n",
      "Train_Scores            1.0\n",
      "Name: 2, dtype: object\n",
      "\n",
      "KNeighborsClassifier\n",
      "Dropped Columns     Insulin\n",
      "Test_Scores            0.75\n",
      "Train_Scores       0.761682\n",
      "Name: 2, dtype: object\n",
      "\n",
      "SVC\n",
      "Dropped Columns    SkinThickness\n",
      "Test_Scores             0.768519\n",
      "Train_Scores            0.721963\n",
      "Name: 1, dtype: object\n"
     ]
    },
    {
     "data": {
      "text/plain": [
       "1467"
      ]
     },
     "execution_count": 21,
     "metadata": {},
     "output_type": "execute_result"
    }
   ],
   "source": [
    "print(\"\\nMLPClassifier\")\n",
    "print(shuffle(mlp))\n",
    "\n",
    "print(\"\\nRandomForestClassifier\")\n",
    "print(shuffle(knn))\n",
    "\n",
    "print(\"DecisionTreeClassifier\")\n",
    "print(shuffle(tree))\n",
    "\n",
    "print(\"\\nKNeighborsClassifier\")\n",
    "print(shuffle(knn))\n",
    "\n",
    "print(\"\\nSVC\")\n",
    "print(shuffle(svc))\n",
    "gc.collect()"
   ]
  },
  {
   "cell_type": "markdown",
   "metadata": {},
   "source": [
    "# With HyperParameters"
   ]
  },
  {
   "cell_type": "code",
   "execution_count": 22,
   "metadata": {
    "execution": {
     "iopub.execute_input": "2023-03-13T09:52:01.663351Z",
     "iopub.status.busy": "2023-03-13T09:52:01.655244Z",
     "iopub.status.idle": "2023-03-13T09:52:11.949169Z",
     "shell.execute_reply": "2023-03-13T09:52:11.949169Z",
     "shell.execute_reply.started": "2023-03-13T09:52:01.663351Z"
    },
    "tags": []
   },
   "outputs": [
    {
     "name": "stdout",
     "output_type": "stream",
     "text": [
      "\n",
      "MLPClassifier\n",
      "Dropped Columns    BloodPressure\n",
      "Test_Scores             0.787037\n",
      "Train_Scores            0.714953\n",
      "Name: 0, dtype: object\n",
      "\n",
      "RandomForestClassifier\n",
      "Dropped Columns         BMI\n",
      "Test_Scores        0.759259\n",
      "Train_Scores       0.983645\n",
      "Name: 3, dtype: object\n",
      "\n",
      "KNeighborsClassifier\n",
      "Dropped Columns    SkinThickness\n",
      "Test_Scores             0.759259\n",
      "Train_Scores                 1.0\n",
      "Name: 1, dtype: object\n",
      "DecisionTreeClassifier\n",
      "Dropped Columns    SkinThickness\n",
      "Test_Scores             0.675926\n",
      "Train_Scores            0.735981\n",
      "Name: 1, dtype: object\n",
      "\n",
      "SVC\n",
      "Dropped Columns    BloodPressure\n",
      "Test_Scores             0.777778\n",
      "Train_Scores            0.705607\n",
      "Name: 0, dtype: object\n"
     ]
    },
    {
     "data": {
      "text/plain": [
       "562"
      ]
     },
     "execution_count": 22,
     "metadata": {},
     "output_type": "execute_result"
    }
   ],
   "source": [
    "print(\"\\nMLPClassifier\")\n",
    "print(shuffle(GSmlp))\n",
    "\n",
    "print(\"\\nRandomForestClassifier\")\n",
    "print(shuffle(GSrf))\n",
    "\n",
    "print(\"\\nKNeighborsClassifier\")\n",
    "print(shuffle(GSknn))\n",
    "\n",
    "print(\"DecisionTreeClassifier\")\n",
    "print(shuffle(GStree))\n",
    "\n",
    "print(\"\\nSVC\")\n",
    "print(shuffle(GSsvc))\n",
    "\n",
    "gc.collect()"
   ]
  },
  {
   "cell_type": "markdown",
   "metadata": {},
   "source": [
    "# Model persistence"
   ]
  },
  {
   "cell_type": "code",
   "execution_count": 23,
   "metadata": {
    "execution": {
     "iopub.execute_input": "2023-03-13T09:52:11.953252Z",
     "iopub.status.busy": "2023-03-13T09:52:11.953252Z",
     "iopub.status.idle": "2023-03-13T09:52:11.996232Z",
     "shell.execute_reply": "2023-03-13T09:52:11.996232Z",
     "shell.execute_reply.started": "2023-03-13T09:52:11.953252Z"
    },
    "tags": []
   },
   "outputs": [],
   "source": [
    "import pickle\n",
    "\n",
    "pickle.dump(rf, open(\"Pimadiabetes.pkl\", \"wb\"))"
   ]
  }
 ],
 "metadata": {
  "kernelspec": {
   "display_name": "Python 3 (ipykernel)",
   "language": "python",
   "name": "python3"
  },
  "language_info": {
   "codemirror_mode": {
    "name": "ipython",
    "version": 3
   },
   "file_extension": ".py",
   "mimetype": "text/x-python",
   "name": "python",
   "nbconvert_exporter": "python",
   "pygments_lexer": "ipython3",
   "version": "3.10.10"
  }
 },
 "nbformat": 4,
 "nbformat_minor": 4
}
