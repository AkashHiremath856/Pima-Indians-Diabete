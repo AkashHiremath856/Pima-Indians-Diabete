{
 "cells": [
  {
   "cell_type": "markdown",
   "metadata": {},
   "source": [
    "# Data Description"
   ]
  },
  {
   "cell_type": "code",
   "execution_count": 1,
   "metadata": {
    "execution": {
     "iopub.execute_input": "2022-09-25T04:31:23.997619Z",
     "iopub.status.busy": "2022-09-25T04:31:23.996813Z",
     "iopub.status.idle": "2022-09-25T04:31:24.004546Z",
     "shell.execute_reply": "2022-09-25T04:31:24.003695Z",
     "shell.execute_reply.started": "2022-09-25T04:31:23.997578Z"
    }
   },
   "outputs": [
    {
     "name": "stdout",
     "output_type": "stream",
     "text": [
      "time: 0 ns (started: 2023-03-04 23:37:24 +05:30)\n"
     ]
    }
   ],
   "source": [
    "import pandas as pd\n",
    "import numpy as np\n",
    "from sklearn.model_selection import train_test_split,GridSearchCV,cross_val_score\n",
    "from sklearn.neighbors import KNeighborsClassifier\n",
    "from sklearn.ensemble import RandomForestClassifier\n",
    "from sklearn.tree import DecisionTreeClassifier\n",
    "from sklearn.linear_model import LogisticRegression\n",
    "from sklearn.preprocessing import StandardScaler,MinMaxScaler\n",
    "from sklearn.neural_network import MLPClassifier\n",
    "from sklearn.svm import SVC\n",
    "import warnings\n",
    "warnings.filterwarnings('ignore')\n",
    "%load_ext autotime"
   ]
  },
  {
   "cell_type": "code",
   "execution_count": 2,
   "metadata": {
    "execution": {
     "iopub.execute_input": "2022-09-25T04:31:24.011077Z",
     "iopub.status.busy": "2022-09-25T04:31:24.009684Z",
     "iopub.status.idle": "2022-09-25T04:31:24.022777Z",
     "shell.execute_reply": "2022-09-25T04:31:24.021665Z",
     "shell.execute_reply.started": "2022-09-25T04:31:24.011033Z"
    }
   },
   "outputs": [
    {
     "name": "stdout",
     "output_type": "stream",
     "text": [
      "time: 0 ns (started: 2023-03-04 23:37:24 +05:30)\n"
     ]
    }
   ],
   "source": [
    "diabetes = pd.read_csv('Pimadiabetes.csv')"
   ]
  },
  {
   "cell_type": "code",
   "execution_count": 3,
   "metadata": {
    "execution": {
     "iopub.execute_input": "2022-09-25T04:31:24.025009Z",
     "iopub.status.busy": "2022-09-25T04:31:24.024392Z",
     "iopub.status.idle": "2022-09-25T04:31:24.031658Z",
     "shell.execute_reply": "2022-09-25T04:31:24.030338Z",
     "shell.execute_reply.started": "2022-09-25T04:31:24.024944Z"
    }
   },
   "outputs": [
    {
     "name": "stdout",
     "output_type": "stream",
     "text": [
      "Index(['Pregnancies', 'Glucose', 'BloodPressure', 'SkinThickness', 'Insulin',\n",
      "       'BMI', 'DiabetesPedigreeFunction', 'Age', 'Outcome'],\n",
      "      dtype='object')\n",
      "time: 0 ns (started: 2023-03-04 23:37:24 +05:30)\n"
     ]
    }
   ],
   "source": [
    "print(diabetes.columns)"
   ]
  },
  {
   "cell_type": "code",
   "execution_count": 4,
   "metadata": {
    "execution": {
     "iopub.execute_input": "2022-09-25T04:31:24.035483Z",
     "iopub.status.busy": "2022-09-25T04:31:24.035103Z",
     "iopub.status.idle": "2022-09-25T04:31:24.053563Z",
     "shell.execute_reply": "2022-09-25T04:31:24.052050Z",
     "shell.execute_reply.started": "2022-09-25T04:31:24.035449Z"
    }
   },
   "outputs": [
    {
     "data": {
      "text/html": [
       "<div>\n",
       "<style scoped>\n",
       "    .dataframe tbody tr th:only-of-type {\n",
       "        vertical-align: middle;\n",
       "    }\n",
       "\n",
       "    .dataframe tbody tr th {\n",
       "        vertical-align: top;\n",
       "    }\n",
       "\n",
       "    .dataframe thead th {\n",
       "        text-align: right;\n",
       "    }\n",
       "</style>\n",
       "<table border=\"1\" class=\"dataframe\">\n",
       "  <thead>\n",
       "    <tr style=\"text-align: right;\">\n",
       "      <th></th>\n",
       "      <th>Pregnancies</th>\n",
       "      <th>Glucose</th>\n",
       "      <th>BloodPressure</th>\n",
       "      <th>SkinThickness</th>\n",
       "      <th>Insulin</th>\n",
       "      <th>BMI</th>\n",
       "      <th>DiabetesPedigreeFunction</th>\n",
       "      <th>Age</th>\n",
       "      <th>Outcome</th>\n",
       "    </tr>\n",
       "  </thead>\n",
       "  <tbody>\n",
       "    <tr>\n",
       "      <th>0</th>\n",
       "      <td>6</td>\n",
       "      <td>148</td>\n",
       "      <td>72</td>\n",
       "      <td>35</td>\n",
       "      <td>0</td>\n",
       "      <td>33.6</td>\n",
       "      <td>0.627</td>\n",
       "      <td>50</td>\n",
       "      <td>1</td>\n",
       "    </tr>\n",
       "    <tr>\n",
       "      <th>1</th>\n",
       "      <td>1</td>\n",
       "      <td>85</td>\n",
       "      <td>66</td>\n",
       "      <td>29</td>\n",
       "      <td>0</td>\n",
       "      <td>26.6</td>\n",
       "      <td>0.351</td>\n",
       "      <td>31</td>\n",
       "      <td>0</td>\n",
       "    </tr>\n",
       "    <tr>\n",
       "      <th>2</th>\n",
       "      <td>8</td>\n",
       "      <td>183</td>\n",
       "      <td>64</td>\n",
       "      <td>0</td>\n",
       "      <td>0</td>\n",
       "      <td>23.3</td>\n",
       "      <td>0.672</td>\n",
       "      <td>32</td>\n",
       "      <td>1</td>\n",
       "    </tr>\n",
       "    <tr>\n",
       "      <th>3</th>\n",
       "      <td>1</td>\n",
       "      <td>89</td>\n",
       "      <td>66</td>\n",
       "      <td>23</td>\n",
       "      <td>94</td>\n",
       "      <td>28.1</td>\n",
       "      <td>0.167</td>\n",
       "      <td>21</td>\n",
       "      <td>0</td>\n",
       "    </tr>\n",
       "    <tr>\n",
       "      <th>4</th>\n",
       "      <td>0</td>\n",
       "      <td>137</td>\n",
       "      <td>40</td>\n",
       "      <td>35</td>\n",
       "      <td>168</td>\n",
       "      <td>43.1</td>\n",
       "      <td>2.288</td>\n",
       "      <td>33</td>\n",
       "      <td>1</td>\n",
       "    </tr>\n",
       "  </tbody>\n",
       "</table>\n",
       "</div>"
      ],
      "text/plain": [
       "   Pregnancies  Glucose  BloodPressure  SkinThickness  Insulin   BMI  \\\n",
       "0            6      148             72             35        0  33.6   \n",
       "1            1       85             66             29        0  26.6   \n",
       "2            8      183             64              0        0  23.3   \n",
       "3            1       89             66             23       94  28.1   \n",
       "4            0      137             40             35      168  43.1   \n",
       "\n",
       "   DiabetesPedigreeFunction  Age  Outcome  \n",
       "0                     0.627   50        1  \n",
       "1                     0.351   31        0  \n",
       "2                     0.672   32        1  \n",
       "3                     0.167   21        0  \n",
       "4                     2.288   33        1  "
      ]
     },
     "execution_count": 4,
     "metadata": {},
     "output_type": "execute_result"
    },
    {
     "name": "stdout",
     "output_type": "stream",
     "text": [
      "time: 16 ms (started: 2023-03-04 23:37:24 +05:30)\n"
     ]
    }
   ],
   "source": [
    "diabetes.head()"
   ]
  },
  {
   "cell_type": "code",
   "execution_count": 5,
   "metadata": {
    "execution": {
     "iopub.execute_input": "2022-09-25T04:31:24.057717Z",
     "iopub.status.busy": "2022-09-25T04:31:24.056532Z",
     "iopub.status.idle": "2022-09-25T04:31:24.064508Z",
     "shell.execute_reply": "2022-09-25T04:31:24.063331Z",
     "shell.execute_reply.started": "2022-09-25T04:31:24.057658Z"
    }
   },
   "outputs": [
    {
     "data": {
      "text/plain": [
       "(768, 9)"
      ]
     },
     "execution_count": 5,
     "metadata": {},
     "output_type": "execute_result"
    },
    {
     "name": "stdout",
     "output_type": "stream",
     "text": [
      "time: 0 ns (started: 2023-03-04 23:37:24 +05:30)\n"
     ]
    }
   ],
   "source": [
    "diabetes.shape"
   ]
  },
  {
   "cell_type": "code",
   "execution_count": 6,
   "metadata": {
    "execution": {
     "iopub.execute_input": "2022-09-25T04:31:24.067045Z",
     "iopub.status.busy": "2022-09-25T04:31:24.065905Z",
     "iopub.status.idle": "2022-09-25T04:31:24.078154Z",
     "shell.execute_reply": "2022-09-25T04:31:24.076734Z",
     "shell.execute_reply.started": "2022-09-25T04:31:24.067000Z"
    }
   },
   "outputs": [
    {
     "name": "stdout",
     "output_type": "stream",
     "text": [
      "Outcome\n",
      "0    500\n",
      "1    268\n",
      "dtype: int64\n",
      "time: 0 ns (started: 2023-03-04 23:37:24 +05:30)\n"
     ]
    }
   ],
   "source": [
    "print(diabetes.groupby('Outcome').size())"
   ]
  },
  {
   "cell_type": "code",
   "execution_count": 7,
   "metadata": {
    "execution": {
     "iopub.execute_input": "2022-09-25T04:31:24.276264Z",
     "iopub.status.busy": "2022-09-25T04:31:24.275089Z",
     "iopub.status.idle": "2022-09-25T04:31:24.290189Z",
     "shell.execute_reply": "2022-09-25T04:31:24.288916Z",
     "shell.execute_reply.started": "2022-09-25T04:31:24.276222Z"
    }
   },
   "outputs": [
    {
     "name": "stdout",
     "output_type": "stream",
     "text": [
      "<class 'pandas.core.frame.DataFrame'>\n",
      "RangeIndex: 768 entries, 0 to 767\n",
      "Data columns (total 9 columns):\n",
      " #   Column                    Non-Null Count  Dtype  \n",
      "---  ------                    --------------  -----  \n",
      " 0   Pregnancies               768 non-null    int64  \n",
      " 1   Glucose                   768 non-null    int64  \n",
      " 2   BloodPressure             768 non-null    int64  \n",
      " 3   SkinThickness             768 non-null    int64  \n",
      " 4   Insulin                   768 non-null    int64  \n",
      " 5   BMI                       768 non-null    float64\n",
      " 6   DiabetesPedigreeFunction  768 non-null    float64\n",
      " 7   Age                       768 non-null    int64  \n",
      " 8   Outcome                   768 non-null    int64  \n",
      "dtypes: float64(2), int64(7)\n",
      "memory usage: 54.1 KB\n",
      "time: 15 ms (started: 2023-03-04 23:37:24 +05:30)\n"
     ]
    }
   ],
   "source": [
    "diabetes.info()"
   ]
  },
  {
   "cell_type": "code",
   "execution_count": 8,
   "metadata": {},
   "outputs": [
    {
     "name": "stdout",
     "output_type": "stream",
     "text": [
      "time: 0 ns (started: 2023-03-04 23:37:24 +05:30)\n"
     ]
    }
   ],
   "source": [
    "X=diabetes.drop('Outcome',axis=1)\n",
    "y=diabetes.Outcome\n",
    "scaler=StandardScaler()\n",
    "X=scaler.fit_transform(X)"
   ]
  },
  {
   "cell_type": "code",
   "execution_count": 9,
   "metadata": {},
   "outputs": [
    {
     "name": "stdout",
     "output_type": "stream",
     "text": [
      "time: 0 ns (started: 2023-03-04 23:37:24 +05:30)\n"
     ]
    }
   ],
   "source": [
    "X_train, X_test, y_train, y_test = train_test_split(X,y)\n",
    "encoder = MinMaxScaler()\n",
    "X_train = encoder.fit_transform(X_train)\n",
    "X_test = encoder.transform(X_test)"
   ]
  },
  {
   "cell_type": "markdown",
   "metadata": {},
   "source": [
    "# K-Nearest Neighbors to Predict Diabetes"
   ]
  },
  {
   "cell_type": "code",
   "execution_count": 10,
   "metadata": {
    "execution": {
     "iopub.execute_input": "2022-09-25T04:31:24.932359Z",
     "iopub.status.busy": "2022-09-25T04:31:24.932052Z",
     "iopub.status.idle": "2022-09-25T04:31:24.945134Z",
     "shell.execute_reply": "2022-09-25T04:31:24.943924Z",
     "shell.execute_reply.started": "2022-09-25T04:31:24.932330Z"
    }
   },
   "outputs": [
    {
     "name": "stdout",
     "output_type": "stream",
     "text": [
      "{'n_jobs': 1, 'n_neighbors': 8, 'weights': 'distance'}\n",
      "0.7361019490254873\n",
      "time: 141 ms (started: 2023-03-04 23:37:24 +05:30)\n"
     ]
    }
   ],
   "source": [
    "knn = KNeighborsClassifier()\n",
    "\n",
    "params={\n",
    "    'n_neighbors':[8,9,10],\n",
    "    'weights':['uniform','distance'],\n",
    "    'n_jobs':[1]\n",
    "}\n",
    "\n",
    "GSknn=GridSearchCV(knn,param_grid=params)\n",
    "GSknn.fit(X_train,y_train)\n",
    "print(GSknn.best_params_)\n",
    "print(GSknn.best_score_)"
   ]
  },
  {
   "cell_type": "markdown",
   "metadata": {},
   "source": [
    "# Decision Tree Classifier"
   ]
  },
  {
   "cell_type": "code",
   "execution_count": 11,
   "metadata": {
    "execution": {
     "iopub.execute_input": "2022-09-25T04:31:25.002786Z",
     "iopub.status.busy": "2022-09-25T04:31:25.002286Z",
     "iopub.status.idle": "2022-09-25T04:31:25.020675Z",
     "shell.execute_reply": "2022-09-25T04:31:25.019287Z",
     "shell.execute_reply.started": "2022-09-25T04:31:25.002739Z"
    },
    "scrolled": true
   },
   "outputs": [
    {
     "name": "stdout",
     "output_type": "stream",
     "text": [
      "{'max_depth': 5, 'min_samples_leaf': 3, 'min_samples_split': 6}\n",
      "0.7534782608695652\n",
      "time: 453 ms (started: 2023-03-04 23:37:24 +05:30)\n"
     ]
    }
   ],
   "source": [
    "tree = DecisionTreeClassifier()\n",
    "\n",
    "params={\n",
    "    'max_depth':[2,3,4,5],\n",
    "     'min_samples_split':[2,4,6],\n",
    "    \"min_samples_leaf\":[1,2,3,4],\n",
    "}\n",
    "\n",
    "GStree=GridSearchCV(tree,param_grid=params)\n",
    "GStree.fit(X_train,y_train)\n",
    "print(GStree.best_params_)\n",
    "print(GStree.best_score_)"
   ]
  },
  {
   "cell_type": "markdown",
   "metadata": {},
   "source": [
    "# MLP to Predict Diabetes"
   ]
  },
  {
   "cell_type": "code",
   "execution_count": 12,
   "metadata": {
    "execution": {
     "iopub.execute_input": "2022-09-25T04:31:25.349042Z",
     "iopub.status.busy": "2022-09-25T04:31:25.348607Z",
     "iopub.status.idle": "2022-09-25T04:31:25.362797Z",
     "shell.execute_reply": "2022-09-25T04:31:25.361144Z",
     "shell.execute_reply.started": "2022-09-25T04:31:25.348999Z"
    }
   },
   "outputs": [
    {
     "name": "stdout",
     "output_type": "stream",
     "text": [
      "{'activation': 'relu', 'alpha': 1, 'max_iter': 1000}\n",
      "0.7621139430284858\n",
      "time: 55.5 s (started: 2023-03-04 23:37:25 +05:30)\n"
     ]
    }
   ],
   "source": [
    "mlp = MLPClassifier()\n",
    "\n",
    "params={\n",
    "    'max_iter':[500,1000],\n",
    "    'alpha':[1,2,3],\n",
    "    'activation':['identity', 'logistic', 'tanh', 'relu']\n",
    "}\n",
    "\n",
    "GSmlp=GridSearchCV(mlp,param_grid=params)\n",
    "GSmlp.fit(X_train, y_train)\n",
    "print(GSmlp.best_params_)\n",
    "print(GSmlp.best_score_)"
   ]
  },
  {
   "cell_type": "markdown",
   "metadata": {
    "execution": {
     "iopub.execute_input": "2022-09-25T04:31:26.455910Z",
     "iopub.status.busy": "2022-09-25T04:31:26.450106Z",
     "iopub.status.idle": "2022-09-25T04:31:26.503414Z",
     "shell.execute_reply": "2022-09-25T04:31:26.501617Z",
     "shell.execute_reply.started": "2022-09-25T04:31:26.455821Z"
    }
   },
   "source": [
    "# Random Forest Classification"
   ]
  },
  {
   "cell_type": "code",
   "execution_count": 13,
   "metadata": {
    "execution": {
     "iopub.execute_input": "2022-09-25T04:31:26.514399Z",
     "iopub.status.busy": "2022-09-25T04:31:26.511880Z",
     "iopub.status.idle": "2022-09-25T04:31:27.799817Z",
     "shell.execute_reply": "2022-09-25T04:31:27.798254Z",
     "shell.execute_reply.started": "2022-09-25T04:31:26.514320Z"
    }
   },
   "outputs": [
    {
     "name": "stdout",
     "output_type": "stream",
     "text": [
      "{'max_features': 'log2', 'min_samples_leaf': 3, 'min_samples_split': 4}\n",
      "0.7725337331334333\n",
      "time: 29.8 s (started: 2023-03-04 23:38:20 +05:30)\n"
     ]
    }
   ],
   "source": [
    "rf=RandomForestClassifier()\n",
    "\n",
    "params={\n",
    "    'min_samples_split':[2,4,6],\n",
    "    \"min_samples_leaf\":[1,2,3,4],\n",
    "    'max_features':['auto','log2',None]\n",
    "}\n",
    "\n",
    "GSrf=GridSearchCV(rf,param_grid=params)\n",
    "GSrf.fit(X_train,y_train)\n",
    "print(GSrf.best_params_)\n",
    "print(GSrf.best_score_)"
   ]
  },
  {
   "cell_type": "markdown",
   "metadata": {},
   "source": [
    "# Support Vector Machine (Support Vector Classifier)"
   ]
  },
  {
   "cell_type": "code",
   "execution_count": 14,
   "metadata": {},
   "outputs": [
    {
     "name": "stdout",
     "output_type": "stream",
     "text": [
      "{'C': 1, 'gamma': 'scale', 'kernel': 'rbf'}\n",
      "0.7656071964017991\n",
      "time: 1.31 s (started: 2023-03-04 23:38:50 +05:30)\n"
     ]
    }
   ],
   "source": [
    "svc=SVC()\n",
    "\n",
    "params={\n",
    "    'C':[1,2,3,4,5],\n",
    "    'kernel':['poly','rbf','sigmoid'],\n",
    "    'gamma':['auto','scale']\n",
    "}\n",
    "GSsvm=GridSearchCV(svc,param_grid=params,n_jobs=1)\n",
    "GSsvm.fit(X_train,y_train)\n",
    "print(GSsvm.best_params_)\n",
    "print(GSsvm.best_score_)"
   ]
  },
  {
   "cell_type": "markdown",
   "metadata": {},
   "source": [
    "# LogisticRegression"
   ]
  },
  {
   "cell_type": "code",
   "execution_count": 15,
   "metadata": {},
   "outputs": [
    {
     "name": "stdout",
     "output_type": "stream",
     "text": [
      "{'C': 1, 'max_iter': 100, 'penalty': 'l1', 'solver': 'liblinear'}\n",
      "0.7604197901049476\n",
      "time: 3.92 s (started: 2023-03-04 23:38:51 +05:30)\n"
     ]
    }
   ],
   "source": [
    "lr=LogisticRegression()\n",
    "\n",
    "params={\n",
    "    'C':[1,2,3,4,5],\n",
    "    'penalty':['l1', 'l2', 'elasticnet', None],\n",
    "    \"solver\":[\"lbfgs\", \"liblinear\", \"newton-cg\", \"newton-cholesky\", \"sag\", \"saga\"],\n",
    "    'max_iter':[100,500,1000]\n",
    "}\n",
    "\n",
    "GSlr=GridSearchCV(lr,param_grid=params)\n",
    "GSlr.fit(X_train,y_train)\n",
    "print(GSlr.best_params_)\n",
    "print(GSlr.best_score_)"
   ]
  },
  {
   "cell_type": "code",
   "execution_count": 16,
   "metadata": {
    "execution": {
     "iopub.execute_input": "2022-09-25T04:31:27.824491Z",
     "iopub.status.busy": "2022-09-25T04:31:27.823372Z",
     "iopub.status.idle": "2022-09-25T04:31:29.524568Z",
     "shell.execute_reply": "2022-09-25T04:31:29.522980Z",
     "shell.execute_reply.started": "2022-09-25T04:31:27.824418Z"
    },
    "scrolled": false
   },
   "outputs": [
    {
     "data": {
      "text/html": [
       "<div>\n",
       "<style scoped>\n",
       "    .dataframe tbody tr th:only-of-type {\n",
       "        vertical-align: middle;\n",
       "    }\n",
       "\n",
       "    .dataframe tbody tr th {\n",
       "        vertical-align: top;\n",
       "    }\n",
       "\n",
       "    .dataframe thead th {\n",
       "        text-align: right;\n",
       "    }\n",
       "</style>\n",
       "<table border=\"1\" class=\"dataframe\">\n",
       "  <thead>\n",
       "    <tr style=\"text-align: right;\">\n",
       "      <th></th>\n",
       "      <th>Algorithm</th>\n",
       "      <th>HyperParameters</th>\n",
       "      <th>Best_Score</th>\n",
       "      <th>Accuracy</th>\n",
       "    </tr>\n",
       "  </thead>\n",
       "  <tbody>\n",
       "    <tr>\n",
       "      <th>3</th>\n",
       "      <td>RandomForestClassifier</td>\n",
       "      <td>{'max_features': 'log2', 'min_samples_leaf': 3...</td>\n",
       "      <td>0.772534</td>\n",
       "      <td>0.781250</td>\n",
       "    </tr>\n",
       "    <tr>\n",
       "      <th>4</th>\n",
       "      <td>SVC</td>\n",
       "      <td>{'C': 1, 'gamma': 'scale', 'kernel': 'rbf'}</td>\n",
       "      <td>0.765607</td>\n",
       "      <td>0.765625</td>\n",
       "    </tr>\n",
       "    <tr>\n",
       "      <th>2</th>\n",
       "      <td>MLPClassifier</td>\n",
       "      <td>{'activation': 'relu', 'alpha': 1, 'max_iter':...</td>\n",
       "      <td>0.762114</td>\n",
       "      <td>0.786458</td>\n",
       "    </tr>\n",
       "    <tr>\n",
       "      <th>5</th>\n",
       "      <td>LogisticRegression</td>\n",
       "      <td>{'C': 1, 'max_iter': 100, 'penalty': 'l1', 'so...</td>\n",
       "      <td>0.760420</td>\n",
       "      <td>0.791667</td>\n",
       "    </tr>\n",
       "    <tr>\n",
       "      <th>1</th>\n",
       "      <td>DecisionTreeClassifier</td>\n",
       "      <td>{'max_depth': 5, 'min_samples_leaf': 3, 'min_s...</td>\n",
       "      <td>0.753478</td>\n",
       "      <td>0.760417</td>\n",
       "    </tr>\n",
       "    <tr>\n",
       "      <th>0</th>\n",
       "      <td>KNeighborsClassifier</td>\n",
       "      <td>{'n_jobs': 1, 'n_neighbors': 8, 'weights': 'di...</td>\n",
       "      <td>0.736102</td>\n",
       "      <td>0.729167</td>\n",
       "    </tr>\n",
       "  </tbody>\n",
       "</table>\n",
       "</div>"
      ],
      "text/plain": [
       "                Algorithm                                    HyperParameters  \\\n",
       "3  RandomForestClassifier  {'max_features': 'log2', 'min_samples_leaf': 3...   \n",
       "4                     SVC        {'C': 1, 'gamma': 'scale', 'kernel': 'rbf'}   \n",
       "2           MLPClassifier  {'activation': 'relu', 'alpha': 1, 'max_iter':...   \n",
       "5      LogisticRegression  {'C': 1, 'max_iter': 100, 'penalty': 'l1', 'so...   \n",
       "1  DecisionTreeClassifier  {'max_depth': 5, 'min_samples_leaf': 3, 'min_s...   \n",
       "0    KNeighborsClassifier  {'n_jobs': 1, 'n_neighbors': 8, 'weights': 'di...   \n",
       "\n",
       "   Best_Score  Accuracy  \n",
       "3    0.772534  0.781250  \n",
       "4    0.765607  0.765625  \n",
       "2    0.762114  0.786458  \n",
       "5    0.760420  0.791667  \n",
       "1    0.753478  0.760417  \n",
       "0    0.736102  0.729167  "
      ]
     },
     "execution_count": 16,
     "metadata": {},
     "output_type": "execute_result"
    },
    {
     "name": "stdout",
     "output_type": "stream",
     "text": [
      "time: 31 ms (started: 2023-03-04 23:38:55 +05:30)\n"
     ]
    }
   ],
   "source": [
    "results={\n",
    "    'Algorithm':['KNeighborsClassifier','DecisionTreeClassifier','MLPClassifier','RandomForestClassifier','SVC','LogisticRegression'],\n",
    "    'HyperParameters':[GSknn.best_params_,GStree.best_params_,GSmlp.best_params_,GSrf.best_params_,GSsvm.best_params_,GSlr.best_params_],\n",
    "    'Best_Score':[GSknn.best_score_,GStree.best_score_,GSmlp.best_score_,GSrf.best_score_,GSsvm.best_score_,GSlr.best_score_],\n",
    "    'Accuracy':[GSknn.score(X_test,y_test),GStree.score(X_test,y_test),GSmlp.score(X_test,y_test),GSrf.score(X_test,y_test),GSsvm.score(X_test,y_test),GSlr.score(X_test,y_test)]\n",
    "}\n",
    "\n",
    "resultsdf=pd.DataFrame(results)\n",
    "resultsdf.sort_values(by=['Best_Score'],ascending=False,inplace=True)\n",
    "resultsdf"
   ]
  },
  {
   "cell_type": "code",
   "execution_count": 17,
   "metadata": {},
   "outputs": [
    {
     "name": "stdout",
     "output_type": "stream",
     "text": [
      "MLP 0.7656971514242878\n",
      "SVC 0.7656371814092953\n",
      "time: 5min 18s (started: 2023-03-04 23:02:03 +05:30)\n"
     ]
    }
   ],
   "source": [
    "MLP=cross_val_score(GSmlp,X_train,y_train,cv=5)\n",
    "SVC=cross_val_score(GSsvm,X_train,y_train,cv=5)\n",
    "print(f'MLP {np.average(MLP)}')\n",
    "print(f'SVC {np.average(SVC)}')"
   ]
  },
  {
   "cell_type": "code",
   "execution_count": 18,
   "metadata": {},
   "outputs": [
    {
     "name": "stdout",
     "output_type": "stream",
     "text": [
      "0.8 0.72\n",
      "0.79 0.73\n",
      "time: 32 ms (started: 2023-03-04 23:07:21 +05:30)\n"
     ]
    }
   ],
   "source": [
    "print(round(GSsvm.score(X_train,y_train),2),round(GSsvm.score(X_test,y_test),2))\n",
    "print(round(GSmlp.score(X_train,y_train),2),round(GSmlp.score(X_test,y_test),2))"
   ]
  },
  {
   "cell_type": "code",
   "execution_count": 21,
   "metadata": {},
   "outputs": [
    {
     "name": "stdout",
     "output_type": "stream",
     "text": [
      "time: 0 ns (started: 2023-03-02 17:39:18 +05:30)\n"
     ]
    }
   ],
   "source": [
    "import pickle\n",
    "\n",
    "pickle.dump(mlp,open('Pimadiabetes.pkl','wb'))"
   ]
  },
  {
   "cell_type": "markdown",
   "metadata": {},
   "source": [
    "# Experimentation to improve Train Scores"
   ]
  },
  {
   "cell_type": "code",
   "execution_count": 20,
   "metadata": {
    "scrolled": true
   },
   "outputs": [
    {
     "data": {
      "text/html": [
       "<div>\n",
       "<style scoped>\n",
       "    .dataframe tbody tr th:only-of-type {\n",
       "        vertical-align: middle;\n",
       "    }\n",
       "\n",
       "    .dataframe tbody tr th {\n",
       "        vertical-align: top;\n",
       "    }\n",
       "\n",
       "    .dataframe thead th {\n",
       "        text-align: right;\n",
       "    }\n",
       "</style>\n",
       "<table border=\"1\" class=\"dataframe\">\n",
       "  <thead>\n",
       "    <tr style=\"text-align: right;\">\n",
       "      <th></th>\n",
       "      <th>Pregnancies</th>\n",
       "      <th>Glucose</th>\n",
       "      <th>BloodPressure</th>\n",
       "      <th>SkinThickness</th>\n",
       "      <th>Insulin</th>\n",
       "      <th>BMI</th>\n",
       "      <th>DiabetesPedigreeFunction</th>\n",
       "      <th>Age</th>\n",
       "      <th>Outcome</th>\n",
       "    </tr>\n",
       "  </thead>\n",
       "  <tbody>\n",
       "    <tr>\n",
       "      <th>0</th>\n",
       "      <td>6</td>\n",
       "      <td>148</td>\n",
       "      <td>72</td>\n",
       "      <td>35</td>\n",
       "      <td>0</td>\n",
       "      <td>33.6</td>\n",
       "      <td>0.627</td>\n",
       "      <td>50</td>\n",
       "      <td>1</td>\n",
       "    </tr>\n",
       "    <tr>\n",
       "      <th>1</th>\n",
       "      <td>1</td>\n",
       "      <td>85</td>\n",
       "      <td>66</td>\n",
       "      <td>29</td>\n",
       "      <td>0</td>\n",
       "      <td>26.6</td>\n",
       "      <td>0.351</td>\n",
       "      <td>31</td>\n",
       "      <td>0</td>\n",
       "    </tr>\n",
       "    <tr>\n",
       "      <th>2</th>\n",
       "      <td>8</td>\n",
       "      <td>183</td>\n",
       "      <td>64</td>\n",
       "      <td>0</td>\n",
       "      <td>0</td>\n",
       "      <td>23.3</td>\n",
       "      <td>0.672</td>\n",
       "      <td>32</td>\n",
       "      <td>1</td>\n",
       "    </tr>\n",
       "    <tr>\n",
       "      <th>3</th>\n",
       "      <td>1</td>\n",
       "      <td>89</td>\n",
       "      <td>66</td>\n",
       "      <td>23</td>\n",
       "      <td>94</td>\n",
       "      <td>28.1</td>\n",
       "      <td>0.167</td>\n",
       "      <td>21</td>\n",
       "      <td>0</td>\n",
       "    </tr>\n",
       "    <tr>\n",
       "      <th>4</th>\n",
       "      <td>0</td>\n",
       "      <td>137</td>\n",
       "      <td>40</td>\n",
       "      <td>35</td>\n",
       "      <td>168</td>\n",
       "      <td>43.1</td>\n",
       "      <td>2.288</td>\n",
       "      <td>33</td>\n",
       "      <td>1</td>\n",
       "    </tr>\n",
       "  </tbody>\n",
       "</table>\n",
       "</div>"
      ],
      "text/plain": [
       "   Pregnancies  Glucose  BloodPressure  SkinThickness  Insulin   BMI  \\\n",
       "0            6      148             72             35        0  33.6   \n",
       "1            1       85             66             29        0  26.6   \n",
       "2            8      183             64              0        0  23.3   \n",
       "3            1       89             66             23       94  28.1   \n",
       "4            0      137             40             35      168  43.1   \n",
       "\n",
       "   DiabetesPedigreeFunction  Age  Outcome  \n",
       "0                     0.627   50        1  \n",
       "1                     0.351   31        0  \n",
       "2                     0.672   32        1  \n",
       "3                     0.167   21        0  \n",
       "4                     2.288   33        1  "
      ]
     },
     "execution_count": 20,
     "metadata": {},
     "output_type": "execute_result"
    },
    {
     "name": "stdout",
     "output_type": "stream",
     "text": [
      "time: 15 ms (started: 2023-03-03 12:46:51 +05:30)\n"
     ]
    }
   ],
   "source": [
    "diabetes.head()"
   ]
  },
  {
   "cell_type": "code",
   "execution_count": 19,
   "metadata": {},
   "outputs": [
    {
     "name": "stdout",
     "output_type": "stream",
     "text": [
      "time: 0 ns (started: 2023-03-04 23:07:21 +05:30)\n"
     ]
    }
   ],
   "source": [
    "def shuffle(model):\n",
    "    X=diabetes.drop('Outcome',axis=1)\n",
    "    y=diabetes.Outcome\n",
    "    print(X.columns)\n",
    "    scaler=StandardScaler()\n",
    "    dropped=[]\n",
    "    train_res=[]\n",
    "    test_res=[]\n",
    "    for i in range(len(diabetes.columns)-2):\n",
    "        X=diabetes.drop('Outcome',axis=1)\n",
    "        X.drop(X.columns[i],axis=1,inplace=True)\n",
    "        X_train,X_test,y_train,y_test=train_test_split(X,y,shuffle=False,random_state=20)\n",
    "        X_train=scaler.fit_transform(X_train)\n",
    "        X_test=scaler.fit_transform(X_test)\n",
    "        model.fit(X_train,y_train)\n",
    "        train_score=model.score(X_train,y_train)\n",
    "        test_score=model.score(X_test,y_test)\n",
    "        col=X.columns[i]\n",
    "        dropped.append(col)\n",
    "        train_res.append(train_score)\n",
    "        test_res.append(test_score)\n",
    "\n",
    "    scores=pd.DataFrame({'Dropped Columns':dropped,'Train_Scores':train_res,'Test_Scores':test_res})\n",
    "    scores=scores.sort_values(by='Train_Scores',ascending=False)\n",
    "    return scores"
   ]
  },
  {
   "cell_type": "code",
   "execution_count": 22,
   "metadata": {},
   "outputs": [
    {
     "data": {
      "text/plain": [
       "{'C': 5, 'gamma': 'auto', 'kernel': 'rbf'}"
      ]
     },
     "execution_count": 22,
     "metadata": {},
     "output_type": "execute_result"
    },
    {
     "name": "stdout",
     "output_type": "stream",
     "text": [
      "time: 0 ns (started: 2023-03-03 12:47:09 +05:30)\n"
     ]
    }
   ],
   "source": [
    "GSsvm.best_params_"
   ]
  },
  {
   "cell_type": "markdown",
   "metadata": {},
   "source": [
    "## SVC"
   ]
  },
  {
   "cell_type": "code",
   "execution_count": 30,
   "metadata": {
    "scrolled": true
   },
   "outputs": [
    {
     "name": "stdout",
     "output_type": "stream",
     "text": [
      "time: 16 ms (started: 2023-03-04 23:11:26 +05:30)\n"
     ]
    }
   ],
   "source": [
    "model=SVC(C=5,gamma='auto',kernel='rbf')\n",
    "shuffle(model)"
   ]
  },
  {
   "cell_type": "code",
   "execution_count": 26,
   "metadata": {},
   "outputs": [
    {
     "data": {
      "text/plain": [
       "{'activation': 'tanh', 'alpha': 1, 'max_iter': 1000}"
      ]
     },
     "execution_count": 26,
     "metadata": {},
     "output_type": "execute_result"
    },
    {
     "name": "stdout",
     "output_type": "stream",
     "text": [
      "time: 15 ms (started: 2023-03-03 12:47:34 +05:30)\n"
     ]
    }
   ],
   "source": [
    "GSmlp.best_params_"
   ]
  },
  {
   "cell_type": "markdown",
   "metadata": {},
   "source": [
    "## MLP"
   ]
  },
  {
   "cell_type": "code",
   "execution_count": 22,
   "metadata": {},
   "outputs": [
    {
     "name": "stdout",
     "output_type": "stream",
     "text": [
      "Index(['Pregnancies', 'Glucose', 'BloodPressure', 'SkinThickness', 'Insulin',\n",
      "       'BMI', 'DiabetesPedigreeFunction', 'Age'],\n",
      "      dtype='object')\n"
     ]
    },
    {
     "data": {
      "text/html": [
       "<div>\n",
       "<style scoped>\n",
       "    .dataframe tbody tr th:only-of-type {\n",
       "        vertical-align: middle;\n",
       "    }\n",
       "\n",
       "    .dataframe tbody tr th {\n",
       "        vertical-align: top;\n",
       "    }\n",
       "\n",
       "    .dataframe thead th {\n",
       "        text-align: right;\n",
       "    }\n",
       "</style>\n",
       "<table border=\"1\" class=\"dataframe\">\n",
       "  <thead>\n",
       "    <tr style=\"text-align: right;\">\n",
       "      <th></th>\n",
       "      <th>Dropped Columns</th>\n",
       "      <th>Train_Scores</th>\n",
       "      <th>Test_Scores</th>\n",
       "    </tr>\n",
       "  </thead>\n",
       "  <tbody>\n",
       "    <tr>\n",
       "      <th>0</th>\n",
       "      <td>Glucose</td>\n",
       "      <td>0.788194</td>\n",
       "      <td>0.786458</td>\n",
       "    </tr>\n",
       "    <tr>\n",
       "      <th>3</th>\n",
       "      <td>Insulin</td>\n",
       "      <td>0.788194</td>\n",
       "      <td>0.781250</td>\n",
       "    </tr>\n",
       "    <tr>\n",
       "      <th>2</th>\n",
       "      <td>SkinThickness</td>\n",
       "      <td>0.784722</td>\n",
       "      <td>0.796875</td>\n",
       "    </tr>\n",
       "    <tr>\n",
       "      <th>4</th>\n",
       "      <td>BMI</td>\n",
       "      <td>0.779514</td>\n",
       "      <td>0.776042</td>\n",
       "    </tr>\n",
       "    <tr>\n",
       "      <th>6</th>\n",
       "      <td>Age</td>\n",
       "      <td>0.774306</td>\n",
       "      <td>0.781250</td>\n",
       "    </tr>\n",
       "    <tr>\n",
       "      <th>5</th>\n",
       "      <td>DiabetesPedigreeFunction</td>\n",
       "      <td>0.762153</td>\n",
       "      <td>0.817708</td>\n",
       "    </tr>\n",
       "    <tr>\n",
       "      <th>1</th>\n",
       "      <td>BloodPressure</td>\n",
       "      <td>0.710069</td>\n",
       "      <td>0.677083</td>\n",
       "    </tr>\n",
       "  </tbody>\n",
       "</table>\n",
       "</div>"
      ],
      "text/plain": [
       "            Dropped Columns  Train_Scores  Test_Scores\n",
       "0                   Glucose      0.788194     0.786458\n",
       "3                   Insulin      0.788194     0.781250\n",
       "2             SkinThickness      0.784722     0.796875\n",
       "4                       BMI      0.779514     0.776042\n",
       "6                       Age      0.774306     0.781250\n",
       "5  DiabetesPedigreeFunction      0.762153     0.817708\n",
       "1             BloodPressure      0.710069     0.677083"
      ]
     },
     "execution_count": 22,
     "metadata": {},
     "output_type": "execute_result"
    },
    {
     "name": "stdout",
     "output_type": "stream",
     "text": [
      "time: 9.8 s (started: 2023-03-04 23:08:47 +05:30)\n"
     ]
    }
   ],
   "source": [
    "model=MLPClassifier(activation='tanh',alpha=1,max_iter=1000)\n",
    "shuffle(model)"
   ]
  },
  {
   "cell_type": "code",
   "execution_count": 29,
   "metadata": {},
   "outputs": [
    {
     "data": {
      "text/plain": [
       "{'max_features': 'auto', 'min_samples_leaf': 2, 'min_samples_split': 6}"
      ]
     },
     "execution_count": 29,
     "metadata": {},
     "output_type": "execute_result"
    },
    {
     "name": "stdout",
     "output_type": "stream",
     "text": [
      "time: 15 ms (started: 2023-03-04 23:10:36 +05:30)\n"
     ]
    }
   ],
   "source": [
    "GSrf.best_params_"
   ]
  },
  {
   "cell_type": "markdown",
   "metadata": {},
   "source": [
    "## RFC"
   ]
  },
  {
   "cell_type": "code",
   "execution_count": 23,
   "metadata": {},
   "outputs": [
    {
     "name": "stdout",
     "output_type": "stream",
     "text": [
      "Index(['Pregnancies', 'Glucose', 'BloodPressure', 'SkinThickness', 'Insulin',\n",
      "       'BMI', 'DiabetesPedigreeFunction', 'Age'],\n",
      "      dtype='object')\n"
     ]
    },
    {
     "data": {
      "text/html": [
       "<div>\n",
       "<style scoped>\n",
       "    .dataframe tbody tr th:only-of-type {\n",
       "        vertical-align: middle;\n",
       "    }\n",
       "\n",
       "    .dataframe tbody tr th {\n",
       "        vertical-align: top;\n",
       "    }\n",
       "\n",
       "    .dataframe thead th {\n",
       "        text-align: right;\n",
       "    }\n",
       "</style>\n",
       "<table border=\"1\" class=\"dataframe\">\n",
       "  <thead>\n",
       "    <tr style=\"text-align: right;\">\n",
       "      <th></th>\n",
       "      <th>Dropped Columns</th>\n",
       "      <th>Train_Scores</th>\n",
       "      <th>Test_Scores</th>\n",
       "    </tr>\n",
       "  </thead>\n",
       "  <tbody>\n",
       "    <tr>\n",
       "      <th>1</th>\n",
       "      <td>BloodPressure</td>\n",
       "      <td>0.987847</td>\n",
       "      <td>0.734375</td>\n",
       "    </tr>\n",
       "    <tr>\n",
       "      <th>4</th>\n",
       "      <td>BMI</td>\n",
       "      <td>0.987847</td>\n",
       "      <td>0.786458</td>\n",
       "    </tr>\n",
       "    <tr>\n",
       "      <th>3</th>\n",
       "      <td>Insulin</td>\n",
       "      <td>0.982639</td>\n",
       "      <td>0.786458</td>\n",
       "    </tr>\n",
       "    <tr>\n",
       "      <th>0</th>\n",
       "      <td>Glucose</td>\n",
       "      <td>0.980903</td>\n",
       "      <td>0.776042</td>\n",
       "    </tr>\n",
       "    <tr>\n",
       "      <th>2</th>\n",
       "      <td>SkinThickness</td>\n",
       "      <td>0.980903</td>\n",
       "      <td>0.755208</td>\n",
       "    </tr>\n",
       "    <tr>\n",
       "      <th>5</th>\n",
       "      <td>DiabetesPedigreeFunction</td>\n",
       "      <td>0.980903</td>\n",
       "      <td>0.755208</td>\n",
       "    </tr>\n",
       "    <tr>\n",
       "      <th>6</th>\n",
       "      <td>Age</td>\n",
       "      <td>0.970486</td>\n",
       "      <td>0.760417</td>\n",
       "    </tr>\n",
       "  </tbody>\n",
       "</table>\n",
       "</div>"
      ],
      "text/plain": [
       "            Dropped Columns  Train_Scores  Test_Scores\n",
       "1             BloodPressure      0.987847     0.734375\n",
       "4                       BMI      0.987847     0.786458\n",
       "3                   Insulin      0.982639     0.786458\n",
       "0                   Glucose      0.980903     0.776042\n",
       "2             SkinThickness      0.980903     0.755208\n",
       "5  DiabetesPedigreeFunction      0.980903     0.755208\n",
       "6                       Age      0.970486     0.760417"
      ]
     },
     "execution_count": 23,
     "metadata": {},
     "output_type": "execute_result"
    },
    {
     "name": "stdout",
     "output_type": "stream",
     "text": [
      "time: 1.91 s (started: 2023-03-04 23:09:03 +05:30)\n"
     ]
    }
   ],
   "source": [
    "model=RandomForestClassifier(max_features=None,min_samples_leaf=1,min_samples_split=6)\n",
    "shuffle(model)"
   ]
  },
  {
   "cell_type": "code",
   "execution_count": 32,
   "metadata": {},
   "outputs": [
    {
     "data": {
      "text/plain": [
       "{'C': 2, 'max_iter': 100, 'penalty': 'l1', 'solver': 'liblinear'}"
      ]
     },
     "execution_count": 32,
     "metadata": {},
     "output_type": "execute_result"
    },
    {
     "name": "stdout",
     "output_type": "stream",
     "text": [
      "time: 0 ns (started: 2023-03-03 12:49:00 +05:30)\n"
     ]
    }
   ],
   "source": [
    "GSlr.best_params_"
   ]
  },
  {
   "cell_type": "markdown",
   "metadata": {},
   "source": [
    "## LR"
   ]
  },
  {
   "cell_type": "code",
   "execution_count": 25,
   "metadata": {},
   "outputs": [
    {
     "name": "stdout",
     "output_type": "stream",
     "text": [
      "Index(['Pregnancies', 'Glucose', 'BloodPressure', 'SkinThickness', 'Insulin',\n",
      "       'BMI', 'DiabetesPedigreeFunction', 'Age'],\n",
      "      dtype='object')\n"
     ]
    },
    {
     "data": {
      "text/html": [
       "<div>\n",
       "<style scoped>\n",
       "    .dataframe tbody tr th:only-of-type {\n",
       "        vertical-align: middle;\n",
       "    }\n",
       "\n",
       "    .dataframe tbody tr th {\n",
       "        vertical-align: top;\n",
       "    }\n",
       "\n",
       "    .dataframe thead th {\n",
       "        text-align: right;\n",
       "    }\n",
       "</style>\n",
       "<table border=\"1\" class=\"dataframe\">\n",
       "  <thead>\n",
       "    <tr style=\"text-align: right;\">\n",
       "      <th></th>\n",
       "      <th>Dropped Columns</th>\n",
       "      <th>Train_Scores</th>\n",
       "      <th>Test_Scores</th>\n",
       "    </tr>\n",
       "  </thead>\n",
       "  <tbody>\n",
       "    <tr>\n",
       "      <th>2</th>\n",
       "      <td>SkinThickness</td>\n",
       "      <td>0.781250</td>\n",
       "      <td>0.796875</td>\n",
       "    </tr>\n",
       "    <tr>\n",
       "      <th>4</th>\n",
       "      <td>BMI</td>\n",
       "      <td>0.779514</td>\n",
       "      <td>0.776042</td>\n",
       "    </tr>\n",
       "    <tr>\n",
       "      <th>3</th>\n",
       "      <td>Insulin</td>\n",
       "      <td>0.777778</td>\n",
       "      <td>0.786458</td>\n",
       "    </tr>\n",
       "    <tr>\n",
       "      <th>0</th>\n",
       "      <td>Glucose</td>\n",
       "      <td>0.772569</td>\n",
       "      <td>0.791667</td>\n",
       "    </tr>\n",
       "    <tr>\n",
       "      <th>6</th>\n",
       "      <td>Age</td>\n",
       "      <td>0.767361</td>\n",
       "      <td>0.791667</td>\n",
       "    </tr>\n",
       "    <tr>\n",
       "      <th>5</th>\n",
       "      <td>DiabetesPedigreeFunction</td>\n",
       "      <td>0.751736</td>\n",
       "      <td>0.802083</td>\n",
       "    </tr>\n",
       "    <tr>\n",
       "      <th>1</th>\n",
       "      <td>BloodPressure</td>\n",
       "      <td>0.701389</td>\n",
       "      <td>0.682292</td>\n",
       "    </tr>\n",
       "  </tbody>\n",
       "</table>\n",
       "</div>"
      ],
      "text/plain": [
       "            Dropped Columns  Train_Scores  Test_Scores\n",
       "2             SkinThickness      0.781250     0.796875\n",
       "4                       BMI      0.779514     0.776042\n",
       "3                   Insulin      0.777778     0.786458\n",
       "0                   Glucose      0.772569     0.791667\n",
       "6                       Age      0.767361     0.791667\n",
       "5  DiabetesPedigreeFunction      0.751736     0.802083\n",
       "1             BloodPressure      0.701389     0.682292"
      ]
     },
     "execution_count": 25,
     "metadata": {},
     "output_type": "execute_result"
    },
    {
     "name": "stdout",
     "output_type": "stream",
     "text": [
      "time: 63 ms (started: 2023-03-04 23:09:21 +05:30)\n"
     ]
    }
   ],
   "source": [
    "model=LogisticRegression(C=2,max_iter=100,penalty='l1',solver='liblinear')\n",
    "shuffle(model)"
   ]
  },
  {
   "cell_type": "code",
   "execution_count": 34,
   "metadata": {},
   "outputs": [
    {
     "data": {
      "text/plain": [
       "{'n_jobs': 1, 'n_neighbors': 10, 'weights': 'uniform'}"
      ]
     },
     "execution_count": 34,
     "metadata": {},
     "output_type": "execute_result"
    },
    {
     "name": "stdout",
     "output_type": "stream",
     "text": [
      "time: 0 ns (started: 2023-03-03 12:49:21 +05:30)\n"
     ]
    }
   ],
   "source": [
    "GSknn.best_params_"
   ]
  },
  {
   "cell_type": "code",
   "execution_count": 31,
   "metadata": {},
   "outputs": [
    {
     "name": "stdout",
     "output_type": "stream",
     "text": [
      "Index(['Pregnancies', 'Glucose', 'BloodPressure', 'SkinThickness', 'Insulin',\n",
      "       'BMI', 'DiabetesPedigreeFunction', 'Age'],\n",
      "      dtype='object')\n"
     ]
    },
    {
     "data": {
      "text/html": [
       "<div>\n",
       "<style scoped>\n",
       "    .dataframe tbody tr th:only-of-type {\n",
       "        vertical-align: middle;\n",
       "    }\n",
       "\n",
       "    .dataframe tbody tr th {\n",
       "        vertical-align: top;\n",
       "    }\n",
       "\n",
       "    .dataframe thead th {\n",
       "        text-align: right;\n",
       "    }\n",
       "</style>\n",
       "<table border=\"1\" class=\"dataframe\">\n",
       "  <thead>\n",
       "    <tr style=\"text-align: right;\">\n",
       "      <th></th>\n",
       "      <th>Dropped Columns</th>\n",
       "      <th>Train_Scores</th>\n",
       "      <th>Test_Scores</th>\n",
       "    </tr>\n",
       "  </thead>\n",
       "  <tbody>\n",
       "    <tr>\n",
       "      <th>0</th>\n",
       "      <td>Glucose</td>\n",
       "      <td>0.989583</td>\n",
       "      <td>0.791667</td>\n",
       "    </tr>\n",
       "    <tr>\n",
       "      <th>1</th>\n",
       "      <td>BloodPressure</td>\n",
       "      <td>0.987847</td>\n",
       "      <td>0.734375</td>\n",
       "    </tr>\n",
       "    <tr>\n",
       "      <th>2</th>\n",
       "      <td>SkinThickness</td>\n",
       "      <td>0.987847</td>\n",
       "      <td>0.760417</td>\n",
       "    </tr>\n",
       "    <tr>\n",
       "      <th>3</th>\n",
       "      <td>Insulin</td>\n",
       "      <td>0.986111</td>\n",
       "      <td>0.796875</td>\n",
       "    </tr>\n",
       "    <tr>\n",
       "      <th>4</th>\n",
       "      <td>BMI</td>\n",
       "      <td>0.982639</td>\n",
       "      <td>0.776042</td>\n",
       "    </tr>\n",
       "    <tr>\n",
       "      <th>5</th>\n",
       "      <td>DiabetesPedigreeFunction</td>\n",
       "      <td>0.982639</td>\n",
       "      <td>0.770833</td>\n",
       "    </tr>\n",
       "    <tr>\n",
       "      <th>6</th>\n",
       "      <td>Age</td>\n",
       "      <td>0.970486</td>\n",
       "      <td>0.760417</td>\n",
       "    </tr>\n",
       "  </tbody>\n",
       "</table>\n",
       "</div>"
      ],
      "text/plain": [
       "            Dropped Columns  Train_Scores  Test_Scores\n",
       "0                   Glucose      0.989583     0.791667\n",
       "1             BloodPressure      0.987847     0.734375\n",
       "2             SkinThickness      0.987847     0.760417\n",
       "3                   Insulin      0.986111     0.796875\n",
       "4                       BMI      0.982639     0.776042\n",
       "5  DiabetesPedigreeFunction      0.982639     0.770833\n",
       "6                       Age      0.970486     0.760417"
      ]
     },
     "execution_count": 31,
     "metadata": {},
     "output_type": "execute_result"
    },
    {
     "name": "stdout",
     "output_type": "stream",
     "text": [
      "time: 1.84 s (started: 2023-03-04 23:13:10 +05:30)\n"
     ]
    }
   ],
   "source": [
    "model=RandomForestClassifier(max_features=None,min_samples_leaf=1,min_samples_split=6)\n",
    "shuffle(model)"
   ]
  },
  {
   "cell_type": "markdown",
   "metadata": {},
   "source": [
    "## KNN"
   ]
  },
  {
   "cell_type": "code",
   "execution_count": 26,
   "metadata": {},
   "outputs": [
    {
     "name": "stdout",
     "output_type": "stream",
     "text": [
      "Index(['Pregnancies', 'Glucose', 'BloodPressure', 'SkinThickness', 'Insulin',\n",
      "       'BMI', 'DiabetesPedigreeFunction', 'Age'],\n",
      "      dtype='object')\n"
     ]
    },
    {
     "data": {
      "text/html": [
       "<div>\n",
       "<style scoped>\n",
       "    .dataframe tbody tr th:only-of-type {\n",
       "        vertical-align: middle;\n",
       "    }\n",
       "\n",
       "    .dataframe tbody tr th {\n",
       "        vertical-align: top;\n",
       "    }\n",
       "\n",
       "    .dataframe thead th {\n",
       "        text-align: right;\n",
       "    }\n",
       "</style>\n",
       "<table border=\"1\" class=\"dataframe\">\n",
       "  <thead>\n",
       "    <tr style=\"text-align: right;\">\n",
       "      <th></th>\n",
       "      <th>Dropped Columns</th>\n",
       "      <th>Train_Scores</th>\n",
       "      <th>Test_Scores</th>\n",
       "    </tr>\n",
       "  </thead>\n",
       "  <tbody>\n",
       "    <tr>\n",
       "      <th>2</th>\n",
       "      <td>SkinThickness</td>\n",
       "      <td>0.789931</td>\n",
       "      <td>0.760417</td>\n",
       "    </tr>\n",
       "    <tr>\n",
       "      <th>3</th>\n",
       "      <td>Insulin</td>\n",
       "      <td>0.789931</td>\n",
       "      <td>0.776042</td>\n",
       "    </tr>\n",
       "    <tr>\n",
       "      <th>4</th>\n",
       "      <td>BMI</td>\n",
       "      <td>0.784722</td>\n",
       "      <td>0.755208</td>\n",
       "    </tr>\n",
       "    <tr>\n",
       "      <th>6</th>\n",
       "      <td>Age</td>\n",
       "      <td>0.782986</td>\n",
       "      <td>0.729167</td>\n",
       "    </tr>\n",
       "    <tr>\n",
       "      <th>0</th>\n",
       "      <td>Glucose</td>\n",
       "      <td>0.763889</td>\n",
       "      <td>0.776042</td>\n",
       "    </tr>\n",
       "    <tr>\n",
       "      <th>5</th>\n",
       "      <td>DiabetesPedigreeFunction</td>\n",
       "      <td>0.755208</td>\n",
       "      <td>0.734375</td>\n",
       "    </tr>\n",
       "    <tr>\n",
       "      <th>1</th>\n",
       "      <td>BloodPressure</td>\n",
       "      <td>0.751736</td>\n",
       "      <td>0.677083</td>\n",
       "    </tr>\n",
       "  </tbody>\n",
       "</table>\n",
       "</div>"
      ],
      "text/plain": [
       "            Dropped Columns  Train_Scores  Test_Scores\n",
       "2             SkinThickness      0.789931     0.760417\n",
       "3                   Insulin      0.789931     0.776042\n",
       "4                       BMI      0.784722     0.755208\n",
       "6                       Age      0.782986     0.729167\n",
       "0                   Glucose      0.763889     0.776042\n",
       "5  DiabetesPedigreeFunction      0.755208     0.734375\n",
       "1             BloodPressure      0.751736     0.677083"
      ]
     },
     "execution_count": 26,
     "metadata": {},
     "output_type": "execute_result"
    },
    {
     "name": "stdout",
     "output_type": "stream",
     "text": [
      "time: 218 ms (started: 2023-03-04 23:09:24 +05:30)\n"
     ]
    }
   ],
   "source": [
    "model=KNeighborsClassifier(n_jobs=1,n_neighbors=10,weights='uniform')\n",
    "shuffle(model)"
   ]
  },
  {
   "cell_type": "markdown",
   "metadata": {},
   "source": [
    "# Without Scaling"
   ]
  },
  {
   "cell_type": "code",
   "execution_count": 27,
   "metadata": {},
   "outputs": [
    {
     "name": "stdout",
     "output_type": "stream",
     "text": [
      "time: 0 ns (started: 2023-03-04 23:09:49 +05:30)\n"
     ]
    }
   ],
   "source": [
    "X=diabetes.drop('Outcome',axis=1)\n",
    "y=diabetes.Outcome\n",
    "\n",
    "X_train,X_test,y_train,y_test=train_test_split(X,y,test_size=0.3)"
   ]
  },
  {
   "cell_type": "code",
   "execution_count": 28,
   "metadata": {},
   "outputs": [
    {
     "name": "stdout",
     "output_type": "stream",
     "text": [
      "{'n_jobs': 1, 'n_neighbors': 10, 'weights': 'uniform'}\n",
      "0.730079612322603\n",
      "{'max_depth': 2, 'min_samples_leaf': 1, 'min_samples_split': 2}\n",
      "0.7543267566632054\n",
      "{'max_features': 'auto', 'min_samples_leaf': 2, 'min_samples_split': 6}\n",
      "0.787712011076497\n",
      "{'C': 1, 'max_iter': 100, 'penalty': 'l2', 'solver': 'liblinear'}\n",
      "0.7672377985462098\n",
      "{'activation': 'logistic', 'alpha': 2, 'max_iter': 1000}\n",
      "0.7188127379716164\n"
     ]
    },
    {
     "data": {
      "text/html": [
       "<div>\n",
       "<style scoped>\n",
       "    .dataframe tbody tr th:only-of-type {\n",
       "        vertical-align: middle;\n",
       "    }\n",
       "\n",
       "    .dataframe tbody tr th {\n",
       "        vertical-align: top;\n",
       "    }\n",
       "\n",
       "    .dataframe thead th {\n",
       "        text-align: right;\n",
       "    }\n",
       "</style>\n",
       "<table border=\"1\" class=\"dataframe\">\n",
       "  <thead>\n",
       "    <tr style=\"text-align: right;\">\n",
       "      <th></th>\n",
       "      <th>Algorithm</th>\n",
       "      <th>HyperParameters</th>\n",
       "      <th>Best_Score</th>\n",
       "      <th>Accuracy</th>\n",
       "    </tr>\n",
       "  </thead>\n",
       "  <tbody>\n",
       "    <tr>\n",
       "      <th>3</th>\n",
       "      <td>RandomForestClassifier</td>\n",
       "      <td>{'max_features': 'auto', 'min_samples_leaf': 2...</td>\n",
       "      <td>0.787712</td>\n",
       "      <td>0.735931</td>\n",
       "    </tr>\n",
       "    <tr>\n",
       "      <th>4</th>\n",
       "      <td>LogisticRegression</td>\n",
       "      <td>{'C': 1, 'max_iter': 100, 'penalty': 'l2', 'so...</td>\n",
       "      <td>0.767238</td>\n",
       "      <td>0.731602</td>\n",
       "    </tr>\n",
       "    <tr>\n",
       "      <th>1</th>\n",
       "      <td>DecisionTreeClassifier</td>\n",
       "      <td>{'max_depth': 2, 'min_samples_leaf': 1, 'min_s...</td>\n",
       "      <td>0.754327</td>\n",
       "      <td>0.748918</td>\n",
       "    </tr>\n",
       "    <tr>\n",
       "      <th>0</th>\n",
       "      <td>KNeighborsClassifier</td>\n",
       "      <td>{'n_jobs': 1, 'n_neighbors': 10, 'weights': 'u...</td>\n",
       "      <td>0.730080</td>\n",
       "      <td>0.748918</td>\n",
       "    </tr>\n",
       "    <tr>\n",
       "      <th>2</th>\n",
       "      <td>MLPClassifier</td>\n",
       "      <td>{'activation': 'logistic', 'alpha': 2, 'max_it...</td>\n",
       "      <td>0.718813</td>\n",
       "      <td>0.744589</td>\n",
       "    </tr>\n",
       "  </tbody>\n",
       "</table>\n",
       "</div>"
      ],
      "text/plain": [
       "                Algorithm                                    HyperParameters  \\\n",
       "3  RandomForestClassifier  {'max_features': 'auto', 'min_samples_leaf': 2...   \n",
       "4      LogisticRegression  {'C': 1, 'max_iter': 100, 'penalty': 'l2', 'so...   \n",
       "1  DecisionTreeClassifier  {'max_depth': 2, 'min_samples_leaf': 1, 'min_s...   \n",
       "0    KNeighborsClassifier  {'n_jobs': 1, 'n_neighbors': 10, 'weights': 'u...   \n",
       "2           MLPClassifier  {'activation': 'logistic', 'alpha': 2, 'max_it...   \n",
       "\n",
       "   Best_Score  Accuracy  \n",
       "3    0.787712  0.735931  \n",
       "4    0.767238  0.731602  \n",
       "1    0.754327  0.748918  \n",
       "0    0.730080  0.748918  \n",
       "2    0.718813  0.744589  "
      ]
     },
     "execution_count": 28,
     "metadata": {},
     "output_type": "execute_result"
    },
    {
     "name": "stdout",
     "output_type": "stream",
     "text": [
      "time: 5.5 s (started: 2023-03-04 23:09:50 +05:30)\n"
     ]
    }
   ],
   "source": [
    "knn = KNeighborsClassifier()\n",
    "\n",
    "params={'n_jobs': [1], 'n_neighbors': [10], 'weights': ['uniform']}\n",
    "\n",
    "\n",
    "GSknn=GridSearchCV(knn,param_grid=params)\n",
    "GSknn.fit(X_train,y_train)\n",
    "print(GSknn.best_params_)\n",
    "print(GSknn.best_score_)\n",
    "\n",
    "tree = DecisionTreeClassifier()\n",
    "\n",
    "params={'max_depth': [2], 'min_samples_leaf': [1], 'min_samples_split': [2]}\n",
    "\n",
    "GStree=GridSearchCV(tree,param_grid=params)\n",
    "GStree.fit(X_train,y_train)\n",
    "print(GStree.best_params_)\n",
    "print(GStree.best_score_)\n",
    "\n",
    "rf=RandomForestClassifier()\n",
    "\n",
    "params={'max_features': ['auto'], 'min_samples_leaf': [2], 'min_samples_split': [6]}\n",
    "\n",
    "\n",
    "GSrf=GridSearchCV(rf,param_grid=params)\n",
    "GSrf.fit(X_train,y_train)\n",
    "print(GSrf.best_params_)\n",
    "print(GSrf.best_score_)\n",
    "\n",
    "\n",
    "lr=LogisticRegression()\n",
    "\n",
    "params={'C': [1], 'max_iter': [100], 'penalty': ['l2'], 'solver': ['liblinear']}\n",
    "\n",
    "\n",
    "GSlr=GridSearchCV(lr,param_grid=params)\n",
    "GSlr.fit(X_train,y_train)\n",
    "print(GSlr.best_params_)\n",
    "print(GSlr.best_score_)\n",
    "\n",
    "\n",
    "mlp = MLPClassifier()\n",
    "\n",
    "params={\n",
    "    'activation': ['logistic'], 'alpha':[2], 'max_iter': [1000]\n",
    "}\n",
    "GSmlp=GridSearchCV(mlp,param_grid=params)\n",
    "GSmlp.fit(X_train, y_train)\n",
    "print(GSmlp.best_params_)\n",
    "print(GSmlp.best_score_)\n",
    "\n",
    "\n",
    "results={\n",
    "    'Algorithm':['KNeighborsClassifier','DecisionTreeClassifier','MLPClassifier','RandomForestClassifier','LogisticRegression'],\n",
    "    'HyperParameters':[GSknn.best_params_,GStree.best_params_,GSmlp.best_params_,GSrf.best_params_,GSlr.best_params_],\n",
    "    'Best_Score':[GSknn.best_score_,GStree.best_score_,GSmlp.best_score_,GSrf.best_score_,GSlr.best_score_],\n",
    "    'Accuracy':[GSknn.score(X_test,y_test),GStree.score(X_test,y_test),GSmlp.score(X_test,y_test),GSrf.score(X_test,y_test),GSlr.score(X_test,y_test)]\n",
    "}\n",
    "\n",
    "resultsdf=pd.DataFrame(results)\n",
    "resultsdf.sort_values(by=['Best_Score'],ascending=False,inplace=True)\n",
    "resultsdf"
   ]
  },
  {
   "cell_type": "markdown",
   "metadata": {},
   "source": [
    "## Since model is performing well without Glucose trainScore->0.989583 & testScore->0.791667"
   ]
  },
  {
   "cell_type": "code",
   "execution_count": 32,
   "metadata": {},
   "outputs": [
    {
     "data": {
      "text/plain": [
       "Index(['Pregnancies', 'Glucose', 'BloodPressure', 'SkinThickness', 'Insulin',\n",
       "       'BMI', 'DiabetesPedigreeFunction', 'Age', 'Outcome'],\n",
       "      dtype='object')"
      ]
     },
     "execution_count": 32,
     "metadata": {},
     "output_type": "execute_result"
    },
    {
     "name": "stdout",
     "output_type": "stream",
     "text": [
      "time: 0 ns (started: 2023-03-04 23:16:08 +05:30)\n"
     ]
    }
   ],
   "source": [
    "diabetes.columns"
   ]
  },
  {
   "cell_type": "code",
   "execution_count": 38,
   "metadata": {},
   "outputs": [
    {
     "data": {
      "text/plain": [
       "(0.9902723735408561, 0.7322834645669292)"
      ]
     },
     "execution_count": 38,
     "metadata": {},
     "output_type": "execute_result"
    },
    {
     "name": "stdout",
     "output_type": "stream",
     "text": [
      "time: 282 ms (started: 2023-03-04 23:18:25 +05:30)\n"
     ]
    }
   ],
   "source": [
    "X=diabetes.drop(['Glucose','Outcome'],axis=1)\n",
    "y=diabetes.Outcome\n",
    "X_train,X_test,y_train,y_test=train_test_split(X,y,test_size=.33)\n",
    "model=RandomForestClassifier(max_features=None,min_samples_leaf=1,min_samples_split=6)\n",
    "model.fit(X_train,y_train)\n",
    "model.score(X_train,y_train),model.score(X_test,y_test)"
   ]
  },
  {
   "cell_type": "code",
   "execution_count": 39,
   "metadata": {},
   "outputs": [
    {
     "name": "stdout",
     "output_type": "stream",
     "text": [
      "time: 15 ms (started: 2023-03-04 23:18:37 +05:30)\n"
     ]
    }
   ],
   "source": [
    "import pickle\n",
    "\n",
    "pickle.dump(model,open('Pimadiabetes.pkl','wb'))"
   ]
  },
  {
   "cell_type": "code",
   "execution_count": null,
   "metadata": {},
   "outputs": [],
   "source": []
  }
 ],
 "metadata": {
  "kernelspec": {
   "display_name": "Python 3 (ipykernel)",
   "language": "python",
   "name": "python3"
  },
  "language_info": {
   "codemirror_mode": {
    "name": "ipython",
    "version": 3
   },
   "file_extension": ".py",
   "mimetype": "text/x-python",
   "name": "python",
   "nbconvert_exporter": "python",
   "pygments_lexer": "ipython3",
   "version": "3.10.10"
  }
 },
 "nbformat": 4,
 "nbformat_minor": 4
}
